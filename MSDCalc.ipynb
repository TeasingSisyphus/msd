{
 "cells": [
  {
   "cell_type": "markdown",
   "metadata": {
    "nbpresent": {
     "id": "fc95b772-1654-4eae-bb02-5d0530220130"
    }
   },
   "source": [
    "# MSD Calculator Program\n",
    "### Migration into Jupyter Notebook Leveraging BokehJS for the Plots\n",
    "\n",
    "This program is desigend to take csv or tsv data with particle trajectories and calculate mean square displacement for a subset of trajectories that meet the acceptance criteria."
   ]
  },
  {
   "cell_type": "code",
   "execution_count": 3,
   "metadata": {
    "collapsed": false,
    "nbpresent": {
     "id": "8ac74136-b526-4bbd-8fd9-b27d50912f86"
    }
   },
   "outputs": [
    {
     "name": "stdout",
     "output_type": "stream",
     "text": [
      "import done\n"
     ]
    }
   ],
   "source": [
    "# Importing Libraries\n",
    "import os\n",
    "import numpy as np\n",
    "import pandas as pd\n",
    "import matplotlib.pyplot as plt\n",
    "from scipy import stats \n",
    "import math\n",
    "import tkinter as tk\n",
    "\n",
    "from tkinter import filedialog as fd\n",
    "\n",
    "\n",
    "print(\"import done\")"
   ]
  },
  {
   "cell_type": "markdown",
   "metadata": {},
   "source": [
    "### Packagaes for interactives"
   ]
  },
  {
   "cell_type": "code",
   "execution_count": 4,
   "metadata": {
    "collapsed": false
   },
   "outputs": [
    {
     "name": "stdout",
     "output_type": "stream",
     "text": [
      "import done\n"
     ]
    }
   ],
   "source": [
    "from __future__ import print_function\n",
    "from ipywidgets import interact, interactive, fixed, interact_manual\n",
    "from ipywidgets import widgets\n",
    "from IPython.display import display, clear_output\n",
    "\n",
    "print(\"import done\")"
   ]
  },
  {
   "cell_type": "markdown",
   "metadata": {
    "nbpresent": {
     "id": "85bd9b8f-1775-43a8-a48f-ff6062a4e410"
    }
   },
   "source": [
    "### MSD calculation function\n",
    "\n",
    "\n",
    "This function calculates the MSD and takes a dt value\n",
    "The output of the function is final calculated MSDS value for the given time duration with dt time steps.\n"
   ]
  },
  {
   "cell_type": "code",
   "execution_count": 5,
   "metadata": {
    "collapsed": true,
    "nbpresent": {
     "id": "b8daff9b-1b64-422a-af68-b5a1a183be2a"
    }
   },
   "outputs": [],
   "source": [
    "def compute_msd(trajectory, t_step, coords=['x', 'y']):\n",
    "    tau = trajectory['t'].copy()\n",
    "    shifts = np.floor(tau / t_step).astype(np.int)\n",
    "    msds = np.zeros(shifts.size)\n",
    "    msds_std = np.zeros(shifts.size)\n",
    "\n",
    "    for i, shift in enumerate(shifts):\n",
    "        diffs = trajectory[coords] - trajectory[coords].shift(-shift)\n",
    "        sqdist = np.square(diffs).sum(axis=1)\n",
    "        msds[i] = sqdist.mean()\n",
    "        msds_std[i] = sqdist.std()\n",
    "\n",
    "    msds = pd.DataFrame({'msds': msds, 'tau': tau, 'msds_std': msds_std})\n",
    "    return msds"
   ]
  },
  {
   "cell_type": "markdown",
   "metadata": {},
   "source": [
    "### Regression Calculation Definition"
   ]
  },
  {
   "cell_type": "code",
   "execution_count": null,
   "metadata": {
    "collapsed": true
   },
   "outputs": [],
   "source": []
  },
  {
   "cell_type": "markdown",
   "metadata": {},
   "source": [
    "### Analysis of selected Data"
   ]
  },
  {
   "cell_type": "code",
   "execution_count": 7,
   "metadata": {
    "collapsed": true,
    "nbpresent": {
     "id": "653740f3-b851-4462-be0f-08b71d173afd"
    }
   },
   "outputs": [],
   "source": [
    "# File Reading Function (needs -  files, inputsAnalysis)\n",
    "def go(minSize, minCount, msdTimeLimit, dt):\n",
    "    msdRowLimit = math.ceil(msdTimeLimit/dt)\n",
    "    for fileName in files:\n",
    "        print(\"working on file %s\" %fileName)\n",
    "        filePath = fileName\n",
    "        tmp = fileName.split(' ')\n",
    "        sampleName = tmp[0]\n",
    "        df = pd.read_excel(filePath)\n",
    "        #Filter for entries that have Particle ID = 2, then draw x1 and y1 columns\n",
    "        #toPlot = df[df['Particle ID'] == 2][[' X1 (pixels)', ' Y1 (pixels)']]\n",
    "        #plot = toPlot.plot(x=\" X1 (pixels)\", y=\" Y1 (pixels)\", kind=\"scatter\")\n",
    "        #fig = plot.get_figure()\n",
    "        #fig.savefig(\"particlePlot.png\")\n",
    "        \n",
    "        \n",
    "        #Group Data by id\n",
    "        grouped = df[[' X1 (pixels)', ' Y1 (pixels)',' X2 (pixels)', ' Y2 (pixels)', ' Particle Size (nm)']].groupby(df['Particle ID'])\n",
    "        counts = grouped.size() #Creates Series with sizes for each group\n",
    "\n",
    "        validData = []\n",
    "        msdData = []\n",
    "        acceptedParticles = []\n",
    "        for name, group in grouped:\n",
    "           \n",
    "            if counts[name] > float(minCount) and group.iloc[0][' Particle Size (nm)'] > float(minSize):\n",
    "                #Group passes -> Do things\n",
    "                #print(\"Group %s is valid data\" %name)\n",
    "                acceptedParticles.append(name)\n",
    "                validData.append({'id': \"%s\" %name, 'data': group})\n",
    "                r = group[[' X1 (pixels)', ' Y1 (pixels)']]\n",
    "                \n",
    "                maxTime = dt*counts[name]\n",
    "                t = np.linspace(0,maxTime,counts[name])\n",
    "                traj = pd.DataFrame({'t':t,'x':r[' X1 (pixels)'], 'y':r[' Y1 (pixels)']})\n",
    "                msds = compute_msd(traj, t_step=dt)\n",
    "                msdData.append({'id':\"%s\" %name, 'data':msds})\n",
    "            #else:\n",
    "                #Discarded  Data\n",
    "                #print(\"Group %s is INVALID data\" %name)\n",
    "        #msdAvgs = pd.DataFrame(columns=['t', 'msdAvg'])\n",
    "        #for time in np.arange(0, lowestTime, dt):\n",
    "        times = []\n",
    "        avgs = []\n",
    "        #print(\"The accepted particle id's from file %s are: %s\" %(fileName, acceptedParticles))\n",
    "        #For each time interval, calculate average MSD across all particles\n",
    "        for index in range(0, msdRowLimit):\n",
    "            sum = 0.0\n",
    "            avg = 0.0\n",
    "            for point in msdData:\n",
    "                #step = time % .04\n",
    "                #print(point['data'])\n",
    "                diff = point['data']['msds'].iloc[index]\n",
    "                sum = sum + diff\n",
    "        \n",
    "            avg = sum/len(msdData)\n",
    "            time = index * dt\n",
    "            times.append(time)\n",
    "            avgs.append(avg)\n",
    "            \n",
    "        \n",
    "        #msdAvgs = pd.Series(data=avgs, index=times)\n",
    "        msdAvgs = pd.DataFrame(data=avgs, index=times, columns=[\"Avg MSD\"])\n",
    "        msdAvgs.reset_index(inplace=True)\n",
    "        msdAvgs.columns = [\"Delta Time in Seconds\", \"Avg MSD\"]\n",
    "\n",
    "        plot(msdAvgs, file)\n",
    "        \n",
    "    \n",
    "    print(\"Analysis complete\")\n"
   ]
  },
  {
   "cell_type": "markdown",
   "metadata": {
    "nbpresent": {
     "id": "4b6da580-6a08-4635-9a00-9395522cf3fe"
    }
   },
   "source": [
    "### bokeh plot generation \n",
    "\n",
    "This function creates a bokeh plot from the MSD data"
   ]
  },
  {
   "cell_type": "code",
   "execution_count": 63,
   "metadata": {
    "collapsed": false,
    "nbpresent": {
     "id": "8aed515b-bcf3-43c2-8f66-249751c32ff6"
    }
   },
   "outputs": [],
   "source": [
    "from bokeh.charts import Scatter, output_notebook, show\n",
    "\n",
    "def plot(df,name):\n",
    "    p = Scatter(df, x=\"Delta Time in Seconds\", y=\"Avg MSD\", title=name,\n",
    "            xlabel=\"dt\", ylabel=\"MSD\")\n",
    "    \n",
    "    xRaw = df[\"Delta Time in Seconds\"].values\n",
    "    yRaw = df[\"Avg MSD\"].values\n",
    "    \n",
    "    \n",
    "    p1, r1, a1, b1, c1= np.polyfit(xRaw, yRaw,1, full=True)\n",
    "    p2, r2, a2, b2, c2= np.polyfit(xRaw, yRaw,2, full=True)\n",
    "   \n",
    "    yLinReg1 = np.polyval(p1,xRaw)\n",
    "    yLinReg2 = np.polyval(p2,xRaw)\n",
    "    \n",
    "        \n",
    "\n",
    " \n",
    "    p.line(xRaw, yLinReg1)\n",
    "    p.line(xRaw, yLinReg2)\n",
    "    output_notebook()\n",
    "\n",
    "    show(p)\n"
   ]
  },
  {
   "cell_type": "markdown",
   "metadata": {
    "nbpresent": {
     "id": "9ea2d505-0a7b-4d42-aead-5784246d6ea1"
    }
   },
   "source": [
    "### Input File Location Selection\n",
    "#### Use the file chooser to select the input data folder  "
   ]
  },
  {
   "cell_type": "code",
   "execution_count": 54,
   "metadata": {
    "collapsed": false,
    "nbpresent": {
     "id": "4f5022c1-10a4-46cf-b500-461d8126e66b"
    },
    "scrolled": true
   },
   "outputs": [
    {
     "name": "stdout",
     "output_type": "stream",
     "text": [
      "the files chosen were the following\n",
      "E:/Code/pythonPractice/MSD/data/file.xls/n\n"
     ]
    }
   ],
   "source": [
    "root = tk.Tk()\n",
    "files = fd.askopenfilenames(parent=root)\n",
    "root.withdraw()\n",
    "print(\"the files chosen were the following\")\n",
    "for file in files:\n",
    "        print(file + \"/n\")"
   ]
  },
  {
   "cell_type": "markdown",
   "metadata": {
    "nbpresent": {
     "id": "1f198fa1-0451-4dba-a53a-1fb3062a9694"
    }
   },
   "source": [
    "# HERE WE GO\n",
    "\n",
    "### GET READY TO RUMBLEEEEEEEEEEE!!!!!\n",
    "\n",
    "The function below runs the code"
   ]
  },
  {
   "cell_type": "markdown",
   "metadata": {
    "nbpresent": {
     "id": "1eae4b16-3743-492c-842b-ae8772924d95"
    }
   },
   "source": [
    "### Input Analysis Parameters\n",
    "#### Select the appropriate input parameters in the section below.\n",
    "\n",
    "The input parameters are as follows\n",
    "1. minSize\n",
    "2. minCount\n",
    "3. msdTimeLimit\n",
    "4. dt\n",
    "\n",
    "and stored in a list in the cell below."
   ]
  },
  {
   "cell_type": "code",
   "execution_count": 34,
   "metadata": {
    "collapsed": false
   },
   "outputs": [
    {
     "name": "stdout",
     "output_type": "stream",
     "text": [
      "The chosen analysis parameters are as follows:\n",
      "100 80 .56 .04\n",
      "working on file E:/Code/pythonPractice/MSD/data/file.xls\n"
     ]
    },
    {
     "data": {
      "text/html": [
       "\n",
       "    <div class=\"bk-root\">\n",
       "        <a href=\"http://bokeh.pydata.org\" target=\"_blank\" class=\"bk-logo bk-logo-small bk-logo-notebook\"></a>\n",
       "        <span id=\"f321899b-eddf-45b5-8d64-b5f3e517f424\">Loading BokehJS ...</span>\n",
       "    </div>"
      ]
     },
     "metadata": {},
     "output_type": "display_data"
    },
    {
     "data": {
      "application/javascript": [
       "\n",
       "(function(global) {\n",
       "  function now() {\n",
       "    return new Date();\n",
       "  }\n",
       "\n",
       "  var force = \"1\";\n",
       "\n",
       "  if (typeof (window._bokeh_onload_callbacks) === \"undefined\" || force !== \"\") {\n",
       "    window._bokeh_onload_callbacks = [];\n",
       "    window._bokeh_is_loading = undefined;\n",
       "  }\n",
       "\n",
       "\n",
       "  \n",
       "  if (typeof (window._bokeh_timeout) === \"undefined\" || force !== \"\") {\n",
       "    window._bokeh_timeout = Date.now() + 5000;\n",
       "    window._bokeh_failed_load = false;\n",
       "  }\n",
       "\n",
       "  var NB_LOAD_WARNING = {'data': {'text/html':\n",
       "     \"<div style='background-color: #fdd'>\\n\"+\n",
       "     \"<p>\\n\"+\n",
       "     \"BokehJS does not appear to have successfully loaded. If loading BokehJS from CDN, this \\n\"+\n",
       "     \"may be due to a slow or bad network connection. Possible fixes:\\n\"+\n",
       "     \"</p>\\n\"+\n",
       "     \"<ul>\\n\"+\n",
       "     \"<li>re-rerun `output_notebook()` to attempt to load from CDN again, or</li>\\n\"+\n",
       "     \"<li>use INLINE resources instead, as so:</li>\\n\"+\n",
       "     \"</ul>\\n\"+\n",
       "     \"<code>\\n\"+\n",
       "     \"from bokeh.resources import INLINE\\n\"+\n",
       "     \"output_notebook(resources=INLINE)\\n\"+\n",
       "     \"</code>\\n\"+\n",
       "     \"</div>\"}};\n",
       "\n",
       "  function display_loaded() {\n",
       "    if (window.Bokeh !== undefined) {\n",
       "      Bokeh.$(\"#f321899b-eddf-45b5-8d64-b5f3e517f424\").text(\"BokehJS successfully loaded.\");\n",
       "    } else if (Date.now() < window._bokeh_timeout) {\n",
       "      setTimeout(display_loaded, 100)\n",
       "    }\n",
       "  }\n",
       "\n",
       "  function run_callbacks() {\n",
       "    window._bokeh_onload_callbacks.forEach(function(callback) { callback() });\n",
       "    delete window._bokeh_onload_callbacks\n",
       "    console.info(\"Bokeh: all callbacks have finished\");\n",
       "  }\n",
       "\n",
       "  function load_libs(js_urls, callback) {\n",
       "    window._bokeh_onload_callbacks.push(callback);\n",
       "    if (window._bokeh_is_loading > 0) {\n",
       "      console.log(\"Bokeh: BokehJS is being loaded, scheduling callback at\", now());\n",
       "      return null;\n",
       "    }\n",
       "    if (js_urls == null || js_urls.length === 0) {\n",
       "      run_callbacks();\n",
       "      return null;\n",
       "    }\n",
       "    console.log(\"Bokeh: BokehJS not loaded, scheduling load and callback at\", now());\n",
       "    window._bokeh_is_loading = js_urls.length;\n",
       "    for (var i = 0; i < js_urls.length; i++) {\n",
       "      var url = js_urls[i];\n",
       "      var s = document.createElement('script');\n",
       "      s.src = url;\n",
       "      s.async = false;\n",
       "      s.onreadystatechange = s.onload = function() {\n",
       "        window._bokeh_is_loading--;\n",
       "        if (window._bokeh_is_loading === 0) {\n",
       "          console.log(\"Bokeh: all BokehJS libraries loaded\");\n",
       "          run_callbacks()\n",
       "        }\n",
       "      };\n",
       "      s.onerror = function() {\n",
       "        console.warn(\"failed to load library \" + url);\n",
       "      };\n",
       "      console.log(\"Bokeh: injecting script tag for BokehJS library: \", url);\n",
       "      document.getElementsByTagName(\"head\")[0].appendChild(s);\n",
       "    }\n",
       "  };var element = document.getElementById(\"f321899b-eddf-45b5-8d64-b5f3e517f424\");\n",
       "  if (element == null) {\n",
       "    console.log(\"Bokeh: ERROR: autoload.js configured with elementid 'f321899b-eddf-45b5-8d64-b5f3e517f424' but no matching script tag was found. \")\n",
       "    return false;\n",
       "  }\n",
       "\n",
       "  var js_urls = ['https://cdn.pydata.org/bokeh/release/bokeh-0.12.2.min.js', 'https://cdn.pydata.org/bokeh/release/bokeh-widgets-0.12.2.min.js', 'https://cdn.pydata.org/bokeh/release/bokeh-compiler-0.12.2.min.js'];\n",
       "\n",
       "  var inline_js = [\n",
       "    function(Bokeh) {\n",
       "      Bokeh.set_log_level(\"info\");\n",
       "    },\n",
       "    \n",
       "    function(Bokeh) {\n",
       "      \n",
       "      Bokeh.$(\"#f321899b-eddf-45b5-8d64-b5f3e517f424\").text(\"BokehJS is loading...\");\n",
       "    },\n",
       "    function(Bokeh) {\n",
       "      console.log(\"Bokeh: injecting CSS: https://cdn.pydata.org/bokeh/release/bokeh-0.12.2.min.css\");\n",
       "      Bokeh.embed.inject_css(\"https://cdn.pydata.org/bokeh/release/bokeh-0.12.2.min.css\");\n",
       "      console.log(\"Bokeh: injecting CSS: https://cdn.pydata.org/bokeh/release/bokeh-widgets-0.12.2.min.css\");\n",
       "      Bokeh.embed.inject_css(\"https://cdn.pydata.org/bokeh/release/bokeh-widgets-0.12.2.min.css\");\n",
       "    }\n",
       "  ];\n",
       "\n",
       "  function run_inline_js() {\n",
       "    \n",
       "    if ((window.Bokeh !== undefined) || (force === \"1\")) {\n",
       "      for (var i = 0; i < inline_js.length; i++) {\n",
       "        inline_js[i](window.Bokeh);\n",
       "      }if (force === \"1\") {\n",
       "        display_loaded();\n",
       "      }} else if (Date.now() < window._bokeh_timeout) {\n",
       "      setTimeout(run_inline_js, 100);\n",
       "    } else if (!window._bokeh_failed_load) {\n",
       "      console.log(\"Bokeh: BokehJS failed to load within specified timeout.\");\n",
       "      window._bokeh_failed_load = true;\n",
       "    } else if (!force) {\n",
       "      var cell = $(\"#f321899b-eddf-45b5-8d64-b5f3e517f424\").parents('.cell').data().cell;\n",
       "      cell.output_area.append_execute_result(NB_LOAD_WARNING)\n",
       "    }\n",
       "\n",
       "  }\n",
       "\n",
       "  if (window._bokeh_is_loading === 0) {\n",
       "    console.log(\"Bokeh: BokehJS loaded, going straight to plotting\");\n",
       "    run_inline_js();\n",
       "  } else {\n",
       "    load_libs(js_urls, function() {\n",
       "      console.log(\"Bokeh: BokehJS plotting callback run at\", now());\n",
       "      run_inline_js();\n",
       "    });\n",
       "  }\n",
       "}(this));"
      ]
     },
     "metadata": {},
     "output_type": "display_data"
    },
    {
     "data": {
      "text/html": [
       "\n",
       "\n",
       "    <div class=\"bk-root\">\n",
       "        <div class=\"plotdiv\" id=\"0cb555c2-35ad-4d75-9c86-e9d981fad0e2\"></div>\n",
       "    </div>\n",
       "<script type=\"text/javascript\">\n",
       "  \n",
       "  (function(global) {\n",
       "    function now() {\n",
       "      return new Date();\n",
       "    }\n",
       "  \n",
       "    var force = \"\";\n",
       "  \n",
       "    if (typeof (window._bokeh_onload_callbacks) === \"undefined\" || force !== \"\") {\n",
       "      window._bokeh_onload_callbacks = [];\n",
       "      window._bokeh_is_loading = undefined;\n",
       "    }\n",
       "  \n",
       "  \n",
       "    \n",
       "    if (typeof (window._bokeh_timeout) === \"undefined\" || force !== \"\") {\n",
       "      window._bokeh_timeout = Date.now() + 0;\n",
       "      window._bokeh_failed_load = false;\n",
       "    }\n",
       "  \n",
       "    var NB_LOAD_WARNING = {'data': {'text/html':\n",
       "       \"<div style='background-color: #fdd'>\\n\"+\n",
       "       \"<p>\\n\"+\n",
       "       \"BokehJS does not appear to have successfully loaded. If loading BokehJS from CDN, this \\n\"+\n",
       "       \"may be due to a slow or bad network connection. Possible fixes:\\n\"+\n",
       "       \"</p>\\n\"+\n",
       "       \"<ul>\\n\"+\n",
       "       \"<li>re-rerun `output_notebook()` to attempt to load from CDN again, or</li>\\n\"+\n",
       "       \"<li>use INLINE resources instead, as so:</li>\\n\"+\n",
       "       \"</ul>\\n\"+\n",
       "       \"<code>\\n\"+\n",
       "       \"from bokeh.resources import INLINE\\n\"+\n",
       "       \"output_notebook(resources=INLINE)\\n\"+\n",
       "       \"</code>\\n\"+\n",
       "       \"</div>\"}};\n",
       "  \n",
       "    function display_loaded() {\n",
       "      if (window.Bokeh !== undefined) {\n",
       "        Bokeh.$(\"#0cb555c2-35ad-4d75-9c86-e9d981fad0e2\").text(\"BokehJS successfully loaded.\");\n",
       "      } else if (Date.now() < window._bokeh_timeout) {\n",
       "        setTimeout(display_loaded, 100)\n",
       "      }\n",
       "    }\n",
       "  \n",
       "    function run_callbacks() {\n",
       "      window._bokeh_onload_callbacks.forEach(function(callback) { callback() });\n",
       "      delete window._bokeh_onload_callbacks\n",
       "      console.info(\"Bokeh: all callbacks have finished\");\n",
       "    }\n",
       "  \n",
       "    function load_libs(js_urls, callback) {\n",
       "      window._bokeh_onload_callbacks.push(callback);\n",
       "      if (window._bokeh_is_loading > 0) {\n",
       "        console.log(\"Bokeh: BokehJS is being loaded, scheduling callback at\", now());\n",
       "        return null;\n",
       "      }\n",
       "      if (js_urls == null || js_urls.length === 0) {\n",
       "        run_callbacks();\n",
       "        return null;\n",
       "      }\n",
       "      console.log(\"Bokeh: BokehJS not loaded, scheduling load and callback at\", now());\n",
       "      window._bokeh_is_loading = js_urls.length;\n",
       "      for (var i = 0; i < js_urls.length; i++) {\n",
       "        var url = js_urls[i];\n",
       "        var s = document.createElement('script');\n",
       "        s.src = url;\n",
       "        s.async = false;\n",
       "        s.onreadystatechange = s.onload = function() {\n",
       "          window._bokeh_is_loading--;\n",
       "          if (window._bokeh_is_loading === 0) {\n",
       "            console.log(\"Bokeh: all BokehJS libraries loaded\");\n",
       "            run_callbacks()\n",
       "          }\n",
       "        };\n",
       "        s.onerror = function() {\n",
       "          console.warn(\"failed to load library \" + url);\n",
       "        };\n",
       "        console.log(\"Bokeh: injecting script tag for BokehJS library: \", url);\n",
       "        document.getElementsByTagName(\"head\")[0].appendChild(s);\n",
       "      }\n",
       "    };var element = document.getElementById(\"0cb555c2-35ad-4d75-9c86-e9d981fad0e2\");\n",
       "    if (element == null) {\n",
       "      console.log(\"Bokeh: ERROR: autoload.js configured with elementid '0cb555c2-35ad-4d75-9c86-e9d981fad0e2' but no matching script tag was found. \")\n",
       "      return false;\n",
       "    }\n",
       "  \n",
       "    var js_urls = [];\n",
       "  \n",
       "    var inline_js = [\n",
       "      function(Bokeh) {\n",
       "        Bokeh.$(function() {\n",
       "            var docs_json = {\"4fd0306d-df9d-4939-9a06-907ae988b071\":{\"roots\":{\"references\":[{\"attributes\":{\"plot\":{\"id\":\"b3c8799c-3350-44de-a79f-45a76d21eb1a\",\"subtype\":\"Chart\",\"type\":\"Plot\"},\"ticker\":{\"id\":\"a39e04bc-b345-477f-b907-66a3bafd76cb\",\"type\":\"BasicTicker\"}},\"id\":\"5ae2aa9c-a94c-4817-b46a-479646b7acc7\",\"type\":\"Grid\"},{\"attributes\":{},\"id\":\"a39e04bc-b345-477f-b907-66a3bafd76cb\",\"type\":\"BasicTicker\"},{\"attributes\":{\"fill_alpha\":{\"value\":0.7},\"fill_color\":{\"value\":\"#f22c40\"},\"line_color\":{\"value\":\"#f22c40\"},\"size\":{\"units\":\"screen\",\"value\":8},\"x\":{\"field\":\"x_values\"},\"y\":{\"field\":\"y_values\"}},\"id\":\"5a3052cb-34a0-47e8-b5ea-ce9857220f97\",\"type\":\"Circle\"},{\"attributes\":{\"callback\":null,\"end\":267.2044479907102,\"start\":-24.29131345370093},\"id\":\"5aab9f6b-bda5-4cfb-abfa-1e00f6864764\",\"type\":\"Range1d\"},{\"attributes\":{\"plot\":null,\"text\":\"E:/Code/pythonPractice/MSD/data/file.xls\"},\"id\":\"03dfc3f6-23e2-4719-8297-45b9d79fcf47\",\"type\":\"Title\"},{\"attributes\":{\"callback\":null,\"end\":0.6160000000000001,\"start\":-0.05600000000000001},\"id\":\"3ac595b0-1711-4b94-a5b8-1652573e8f35\",\"type\":\"Range1d\"},{\"attributes\":{\"callback\":null,\"column_names\":[\"y\",\"x\"],\"data\":{\"x\":[0.0,0.04,0.08,0.12,0.16,0.2,0.24,0.28,0.32,0.36,0.4,0.44,0.48,0.52,0.56],\"y\":[-12.971623191529357,4.39683655978358,21.765296311096517,39.13375606240945,56.50221581372239,73.87067556503533,91.23913531634825,108.60759506766121,125.97605481897413,143.3445145702871,160.71297432160003,178.08143407291297,195.44989382422588,212.81835357553885,230.1868133268518]}},\"id\":\"c20dd390-99cd-4f70-83fd-7106daa70651\",\"type\":\"ColumnDataSource\"},{\"attributes\":{\"line_alpha\":{\"value\":0.1},\"line_color\":{\"value\":\"#1f77b4\"},\"x\":{\"field\":\"x\"},\"y\":{\"field\":\"y\"}},\"id\":\"48a91fd9-ab1a-4ddc-bc6e-2d396033b375\",\"type\":\"Line\"},{\"attributes\":{},\"id\":\"a4dc011a-4117-473f-8517-5506576ec6e0\",\"type\":\"ToolEvents\"},{\"attributes\":{\"data_source\":{\"id\":\"7034b902-4c53-469b-b26c-679d852404dc\",\"type\":\"ColumnDataSource\"},\"glyph\":{\"id\":\"85e4f1c5-5aa2-4531-8664-f88b6db5aba3\",\"type\":\"Line\"},\"hover_glyph\":null,\"nonselection_glyph\":{\"id\":\"48a91fd9-ab1a-4ddc-bc6e-2d396033b375\",\"type\":\"Line\"},\"selection_glyph\":null},\"id\":\"e05d3644-209d-413d-8149-a35cd32b9285\",\"type\":\"GlyphRenderer\"},{\"attributes\":{\"data_source\":{\"id\":\"c3800e27-dfc2-4b52-ab96-678fcb4eb23c\",\"type\":\"ColumnDataSource\"},\"glyph\":{\"id\":\"5a3052cb-34a0-47e8-b5ea-ce9857220f97\",\"type\":\"Circle\"},\"hover_glyph\":null,\"nonselection_glyph\":null,\"selection_glyph\":null},\"id\":\"bac16d16-c87c-447b-b286-186a292427bc\",\"type\":\"GlyphRenderer\"},{\"attributes\":{\"active_drag\":\"auto\",\"active_scroll\":\"auto\",\"active_tap\":\"auto\",\"tools\":[{\"id\":\"0b18fc6b-08f6-4fe7-a3e2-c0f4ab240ead\",\"type\":\"PanTool\"},{\"id\":\"ce4822df-ad2f-47c7-b058-abf665c3704d\",\"type\":\"WheelZoomTool\"},{\"id\":\"0eef614f-c182-4ad7-ae21-2d4f48941bf9\",\"type\":\"BoxZoomTool\"},{\"id\":\"1ea07c19-117f-4e6e-823f-f169cd045df3\",\"type\":\"SaveTool\"},{\"id\":\"3083a009-ad36-450b-b191-87c0093fe2a0\",\"type\":\"ResetTool\"},{\"id\":\"20b22c77-edd5-4163-ac9f-f1b093e1f796\",\"type\":\"HelpTool\"}]},\"id\":\"7b166c63-aff3-4c27-af88-8954ac0a4f72\",\"type\":\"Toolbar\"},{\"attributes\":{\"line_color\":{\"value\":\"#1f77b4\"},\"x\":{\"field\":\"x\"},\"y\":{\"field\":\"y\"}},\"id\":\"85e4f1c5-5aa2-4531-8664-f88b6db5aba3\",\"type\":\"Line\"},{\"attributes\":{},\"id\":\"b2fdeb55-5637-4575-9d14-4d04a40a51aa\",\"type\":\"BasicTicker\"},{\"attributes\":{\"callback\":null,\"column_names\":[\"y\",\"x\"],\"data\":{\"x\":[0.0,0.04,0.08,0.12,0.16,0.2,0.24,0.28,0.32,0.36,0.4,0.44,0.48,0.52,0.56],\"y\":[-0.06944541952185013,11.76950957235931,24.45915760415305,37.99949867585937,52.390532787478286,67.63225993900976,83.72468013045382,100.66779336181048,118.4615996330797,137.1060989442615,156.6012912953559,176.94717668636284,198.14375511728238,220.19102658811457,243.08899109885928]}},\"id\":\"7034b902-4c53-469b-b26c-679d852404dc\",\"type\":\"ColumnDataSource\"},{\"attributes\":{\"location\":\"top_left\",\"plot\":{\"id\":\"b3c8799c-3350-44de-a79f-45a76d21eb1a\",\"subtype\":\"Chart\",\"type\":\"Plot\"}},\"id\":\"556f79df-58b5-43ab-8d1e-3f7f70b12587\",\"type\":\"Legend\"},{\"attributes\":{},\"id\":\"cd4b3944-bf7f-4202-b3e6-ed729fc67893\",\"type\":\"BasicTickFormatter\"},{\"attributes\":{\"below\":[{\"id\":\"d33b9f7d-6e89-4d2e-819e-03d1cd083f5d\",\"type\":\"LinearAxis\"}],\"left\":[{\"id\":\"8b144490-66c2-48c5-8d55-c3925f3336dc\",\"type\":\"LinearAxis\"}],\"renderers\":[{\"id\":\"ec3cb28f-cc65-4e44-84f6-9c5aa06af7ac\",\"type\":\"BoxAnnotation\"},{\"id\":\"bac16d16-c87c-447b-b286-186a292427bc\",\"type\":\"GlyphRenderer\"},{\"id\":\"556f79df-58b5-43ab-8d1e-3f7f70b12587\",\"type\":\"Legend\"},{\"id\":\"d33b9f7d-6e89-4d2e-819e-03d1cd083f5d\",\"type\":\"LinearAxis\"},{\"id\":\"8b144490-66c2-48c5-8d55-c3925f3336dc\",\"type\":\"LinearAxis\"},{\"id\":\"5ae2aa9c-a94c-4817-b46a-479646b7acc7\",\"type\":\"Grid\"},{\"id\":\"8073819f-66d5-42bb-ad90-080708c5c026\",\"type\":\"Grid\"},{\"id\":\"2ecc6ab0-22b1-406d-ad9e-3006eeab993c\",\"type\":\"GlyphRenderer\"},{\"id\":\"e05d3644-209d-413d-8149-a35cd32b9285\",\"type\":\"GlyphRenderer\"}],\"title\":{\"id\":\"03dfc3f6-23e2-4719-8297-45b9d79fcf47\",\"type\":\"Title\"},\"tool_events\":{\"id\":\"a4dc011a-4117-473f-8517-5506576ec6e0\",\"type\":\"ToolEvents\"},\"toolbar\":{\"id\":\"7b166c63-aff3-4c27-af88-8954ac0a4f72\",\"type\":\"Toolbar\"},\"x_mapper_type\":\"auto\",\"x_range\":{\"id\":\"3ac595b0-1711-4b94-a5b8-1652573e8f35\",\"type\":\"Range1d\"},\"y_mapper_type\":\"auto\",\"y_range\":{\"id\":\"5aab9f6b-bda5-4cfb-abfa-1e00f6864764\",\"type\":\"Range1d\"}},\"id\":\"b3c8799c-3350-44de-a79f-45a76d21eb1a\",\"subtype\":\"Chart\",\"type\":\"Plot\"},{\"attributes\":{\"line_color\":{\"value\":\"#1f77b4\"},\"x\":{\"field\":\"x\"},\"y\":{\"field\":\"y\"}},\"id\":\"281c5499-d6a8-492c-96ea-f8f3af7e826e\",\"type\":\"Line\"},{\"attributes\":{\"plot\":{\"id\":\"b3c8799c-3350-44de-a79f-45a76d21eb1a\",\"subtype\":\"Chart\",\"type\":\"Plot\"}},\"id\":\"0b18fc6b-08f6-4fe7-a3e2-c0f4ab240ead\",\"type\":\"PanTool\"},{\"attributes\":{\"callback\":null,\"column_names\":[\"x_values\",\"y_values\"],\"data\":{\"chart_index\":[null,null,null,null,null,null,null,null,null,null,null,null,null,null,null],\"x_values\":[0.0,0.04,0.08,0.12,0.16,0.2,0.24,0.28,0.32,0.36,0.4,0.44,0.48,0.52,0.56],\"y_values\":[0.0,11.884459387755264,24.452612147861704,37.79317547878221,52.23641500063289,67.58760880060782,83.87248058565079,100.7565291404256,118.37273481621192,137.09325356400043,156.6285349687859,177.0117620671413,198.2829974611616,220.2282280588913,242.91313453700928]}},\"id\":\"c3800e27-dfc2-4b52-ab96-678fcb4eb23c\",\"type\":\"ColumnDataSource\"},{\"attributes\":{\"line_alpha\":{\"value\":0.1},\"line_color\":{\"value\":\"#1f77b4\"},\"x\":{\"field\":\"x\"},\"y\":{\"field\":\"y\"}},\"id\":\"d55e6689-43ce-466c-880f-953177fa26da\",\"type\":\"Line\"},{\"attributes\":{},\"id\":\"fe23bc4d-e00b-4249-bdf9-a686b41c4251\",\"type\":\"BasicTickFormatter\"},{\"attributes\":{\"overlay\":{\"id\":\"ec3cb28f-cc65-4e44-84f6-9c5aa06af7ac\",\"type\":\"BoxAnnotation\"},\"plot\":{\"id\":\"b3c8799c-3350-44de-a79f-45a76d21eb1a\",\"subtype\":\"Chart\",\"type\":\"Plot\"}},\"id\":\"0eef614f-c182-4ad7-ae21-2d4f48941bf9\",\"type\":\"BoxZoomTool\"},{\"attributes\":{\"plot\":{\"id\":\"b3c8799c-3350-44de-a79f-45a76d21eb1a\",\"subtype\":\"Chart\",\"type\":\"Plot\"}},\"id\":\"3083a009-ad36-450b-b191-87c0093fe2a0\",\"type\":\"ResetTool\"},{\"attributes\":{\"plot\":{\"id\":\"b3c8799c-3350-44de-a79f-45a76d21eb1a\",\"subtype\":\"Chart\",\"type\":\"Plot\"}},\"id\":\"ce4822df-ad2f-47c7-b058-abf665c3704d\",\"type\":\"WheelZoomTool\"},{\"attributes\":{\"axis_label\":\"dt\",\"formatter\":{\"id\":\"cd4b3944-bf7f-4202-b3e6-ed729fc67893\",\"type\":\"BasicTickFormatter\"},\"plot\":{\"id\":\"b3c8799c-3350-44de-a79f-45a76d21eb1a\",\"subtype\":\"Chart\",\"type\":\"Plot\"},\"ticker\":{\"id\":\"a39e04bc-b345-477f-b907-66a3bafd76cb\",\"type\":\"BasicTicker\"}},\"id\":\"d33b9f7d-6e89-4d2e-819e-03d1cd083f5d\",\"type\":\"LinearAxis\"},{\"attributes\":{\"axis_label\":\"MSD\",\"formatter\":{\"id\":\"fe23bc4d-e00b-4249-bdf9-a686b41c4251\",\"type\":\"BasicTickFormatter\"},\"plot\":{\"id\":\"b3c8799c-3350-44de-a79f-45a76d21eb1a\",\"subtype\":\"Chart\",\"type\":\"Plot\"},\"ticker\":{\"id\":\"b2fdeb55-5637-4575-9d14-4d04a40a51aa\",\"type\":\"BasicTicker\"}},\"id\":\"8b144490-66c2-48c5-8d55-c3925f3336dc\",\"type\":\"LinearAxis\"},{\"attributes\":{\"plot\":{\"id\":\"b3c8799c-3350-44de-a79f-45a76d21eb1a\",\"subtype\":\"Chart\",\"type\":\"Plot\"}},\"id\":\"20b22c77-edd5-4163-ac9f-f1b093e1f796\",\"type\":\"HelpTool\"},{\"attributes\":{\"dimension\":1,\"plot\":{\"id\":\"b3c8799c-3350-44de-a79f-45a76d21eb1a\",\"subtype\":\"Chart\",\"type\":\"Plot\"},\"ticker\":{\"id\":\"b2fdeb55-5637-4575-9d14-4d04a40a51aa\",\"type\":\"BasicTicker\"}},\"id\":\"8073819f-66d5-42bb-ad90-080708c5c026\",\"type\":\"Grid\"},{\"attributes\":{\"plot\":{\"id\":\"b3c8799c-3350-44de-a79f-45a76d21eb1a\",\"subtype\":\"Chart\",\"type\":\"Plot\"}},\"id\":\"1ea07c19-117f-4e6e-823f-f169cd045df3\",\"type\":\"SaveTool\"},{\"attributes\":{\"bottom_units\":\"screen\",\"fill_alpha\":{\"value\":0.5},\"fill_color\":{\"value\":\"lightgrey\"},\"left_units\":\"screen\",\"level\":\"overlay\",\"line_alpha\":{\"value\":1.0},\"line_color\":{\"value\":\"black\"},\"line_dash\":[4,4],\"line_width\":{\"value\":2},\"plot\":null,\"render_mode\":\"css\",\"right_units\":\"screen\",\"top_units\":\"screen\"},\"id\":\"ec3cb28f-cc65-4e44-84f6-9c5aa06af7ac\",\"type\":\"BoxAnnotation\"},{\"attributes\":{\"data_source\":{\"id\":\"c20dd390-99cd-4f70-83fd-7106daa70651\",\"type\":\"ColumnDataSource\"},\"glyph\":{\"id\":\"281c5499-d6a8-492c-96ea-f8f3af7e826e\",\"type\":\"Line\"},\"hover_glyph\":null,\"nonselection_glyph\":{\"id\":\"d55e6689-43ce-466c-880f-953177fa26da\",\"type\":\"Line\"},\"selection_glyph\":null},\"id\":\"2ecc6ab0-22b1-406d-ad9e-3006eeab993c\",\"type\":\"GlyphRenderer\"}],\"root_ids\":[\"b3c8799c-3350-44de-a79f-45a76d21eb1a\"]},\"title\":\"Bokeh Application\",\"version\":\"0.12.2\"}};\n",
       "            var render_items = [{\"docid\":\"4fd0306d-df9d-4939-9a06-907ae988b071\",\"elementid\":\"0cb555c2-35ad-4d75-9c86-e9d981fad0e2\",\"modelid\":\"b3c8799c-3350-44de-a79f-45a76d21eb1a\"}];\n",
       "            \n",
       "            Bokeh.embed.embed_items(docs_json, render_items);\n",
       "        });\n",
       "      },\n",
       "      function(Bokeh) {\n",
       "      }\n",
       "    ];\n",
       "  \n",
       "    function run_inline_js() {\n",
       "      \n",
       "      if ((window.Bokeh !== undefined) || (force === \"1\")) {\n",
       "        for (var i = 0; i < inline_js.length; i++) {\n",
       "          inline_js[i](window.Bokeh);\n",
       "        }if (force === \"1\") {\n",
       "          display_loaded();\n",
       "        }} else if (Date.now() < window._bokeh_timeout) {\n",
       "        setTimeout(run_inline_js, 100);\n",
       "      } else if (!window._bokeh_failed_load) {\n",
       "        console.log(\"Bokeh: BokehJS failed to load within specified timeout.\");\n",
       "        window._bokeh_failed_load = true;\n",
       "      } else if (!force) {\n",
       "        var cell = $(\"#0cb555c2-35ad-4d75-9c86-e9d981fad0e2\").parents('.cell').data().cell;\n",
       "        cell.output_area.append_execute_result(NB_LOAD_WARNING)\n",
       "      }\n",
       "  \n",
       "    }\n",
       "  \n",
       "    if (window._bokeh_is_loading === 0) {\n",
       "      console.log(\"Bokeh: BokehJS loaded, going straight to plotting\");\n",
       "      run_inline_js();\n",
       "    } else {\n",
       "      load_libs(js_urls, function() {\n",
       "        console.log(\"Bokeh: BokehJS plotting callback run at\", now());\n",
       "        run_inline_js();\n",
       "      });\n",
       "    }\n",
       "  }(this));\n",
       "</script>"
      ]
     },
     "metadata": {},
     "output_type": "display_data"
    },
    {
     "name": "stdout",
     "output_type": "stream",
     "text": [
      "Analysis complete\n",
      "Wall time: 25.2 s\n"
     ]
    }
   ],
   "source": [
    "\n",
    "minSizeInput = widgets.Text(description=\"Min Particle Size\")\n",
    "minCountInput = widgets.Text(description=\"Min Count\")\n",
    "msdTimeLimitInput = widgets.Text(description=\"Total Analysis Time\")\n",
    "dtInput = widgets.Text(description=\"delta-T\")\n",
    "\n",
    "display(minSizeInput)\n",
    "display(minCountInput)\n",
    "display(msdTimeLimitInput)\n",
    "display(dtInput)\n",
    "\n",
    "  \n",
    "def inputAssignment(b):\n",
    "    clear_output()\n",
    "    tmp = True\n",
    "    for parameter in [minSizeInput, minCountInput, msdTimeLimitInput, dtInput]:\n",
    "        if parameter.value == \"\":\n",
    "            tmp = False\n",
    "    if tmp:\n",
    "        print(\"The chosen analysis parameters are as follows:\")\n",
    "        print(minSizeInput.value, minCountInput.value, msdTimeLimitInput.value, dtInput.value)\n",
    "        %time go(int(minSizeInput.value), int(minCountInput.value), float(msdTimeLimitInput.value), float(dtInput.value))\n",
    "\n",
    "    \n",
    "button  = widgets.Button(description=\"TIME TO RUMBLE!!\")\n",
    "display(button)\n",
    "\n",
    "button.on_click(inputAssignment)\n",
    "\n",
    "    "
   ]
  }
 ],
 "metadata": {
  "anaconda-cloud": {},
  "kernelspec": {
   "display_name": "Python [conda root]",
   "language": "python",
   "name": "conda-root-py"
  },
  "language_info": {
   "codemirror_mode": {
    "name": "ipython",
    "version": 3
   },
   "file_extension": ".py",
   "mimetype": "text/x-python",
   "name": "python",
   "nbconvert_exporter": "python",
   "pygments_lexer": "ipython3",
   "version": "3.5.2"
  },
  "widgets": {
   "state": {
    "08912bc0467d4af7a3658d522f480f57": {
     "views": [
      {
       "cell_index": 16
      }
     ]
    },
    "09c443201c4544d7874f4d08f2bf0759": {
     "views": [
      {
       "cell_index": 16
      }
     ]
    },
    "249a5cd16d63409eb9b125e6aed160d0": {
     "views": [
      {
       "cell_index": 16
      }
     ]
    },
    "272652ff5893487cacc7ef7950aeed3a": {
     "views": [
      {
       "cell_index": 16
      }
     ]
    },
    "3d0fdefbacf549ef90d2c55578c92a4a": {
     "views": [
      {
       "cell_index": 16
      }
     ]
    },
    "4cbf4c061be94c83ae9b3d6f93f6da4b": {
     "views": [
      {
       "cell_index": 16
      }
     ]
    },
    "6028abe1849a434585c1be0b343d36f6": {
     "views": [
      {
       "cell_index": 16
      }
     ]
    },
    "675bc4b781c24aae9f2aa062648ff335": {
     "views": [
      {
       "cell_index": 16
      }
     ]
    },
    "772488f6d27748e6aeb65efe1226f93f": {
     "views": [
      {
       "cell_index": 16
      }
     ]
    },
    "7f04b801abd14f91a4c28d693a013b59": {
     "views": [
      {
       "cell_index": 16
      }
     ]
    },
    "902cb693306d4883ada00a0b37fcd64f": {
     "views": [
      {
       "cell_index": 16
      }
     ]
    },
    "93f9245eed3d42dba70f2881f00d0e92": {
     "views": [
      {
       "cell_index": 16
      }
     ]
    },
    "9665c05470334827b2ea8bf325abafc5": {
     "views": [
      {
       "cell_index": 16
      }
     ]
    },
    "a38606511b854dd3b3602a01d75f1e27": {
     "views": [
      {
       "cell_index": 16
      }
     ]
    },
    "a96669ad4850482983423f5062ef282e": {
     "views": [
      {
       "cell_index": 16
      }
     ]
    },
    "bb00f73c1e1d4264900193ed1f2b1344": {
     "views": [
      {
       "cell_index": 16
      }
     ]
    },
    "bf7f03b2c31048f3ac3805cce5ed56e2": {
     "views": [
      {
       "cell_index": 16
      }
     ]
    },
    "c8c08d28b01b4f51b124d81472f51ed3": {
     "views": [
      {
       "cell_index": 16
      }
     ]
    },
    "ce210b7734104422a38d8b092468f786": {
     "views": [
      {
       "cell_index": 16
      }
     ]
    },
    "d27e050ecd5642c6a67370e917c0e7e4": {
     "views": [
      {
       "cell_index": 16
      }
     ]
    },
    "d4ab38c7bdfb482da6512ef7714b02ef": {
     "views": [
      {
       "cell_index": 16
      }
     ]
    },
    "e63a3d5844a54b2eb64b638376b5518a": {
     "views": [
      {
       "cell_index": 16
      }
     ]
    },
    "ee399e7fa3f843d2a118a09081f05f74": {
     "views": [
      {
       "cell_index": 16
      }
     ]
    },
    "f68f63e3508449548fff874db3d54e4d": {
     "views": [
      {
       "cell_index": 16
      }
     ]
    },
    "f6c4dfe549f440d293964435a7ec2c68": {
     "views": [
      {
       "cell_index": 16
      }
     ]
    },
    "f7a36d746a814ff08601ac87d485a902": {
     "views": [
      {
       "cell_index": 16
      }
     ]
    },
    "faaab8a0c7ac43ee8d7fbdf4d78784b3": {
     "views": [
      {
       "cell_index": 16
      }
     ]
    },
    "faebc877fa314075b2c4e771c9555805": {
     "views": [
      {
       "cell_index": 16
      }
     ]
    }
   },
   "version": "1.2.0"
  }
 },
 "nbformat": 4,
 "nbformat_minor": 1
}
