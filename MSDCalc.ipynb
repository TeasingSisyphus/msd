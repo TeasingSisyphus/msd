{
 "cells": [
  {
   "cell_type": "markdown",
   "metadata": {
    "nbpresent": {
     "id": "fc95b772-1654-4eae-bb02-5d0530220130"
    }
   },
   "source": [
    "\n",
    "# MSD Calculator Program\n",
    "### Migration into Jupyter Notebook Leveraging BokehJS for the Plots\n",
    "\n",
    "This program is desigend to take csv or tsv data with particle trajectories and calculate mean square displacement for a subset of trajectories that meet the acceptance criteria."
   ]
  },
  {
   "cell_type": "code",
   "execution_count": null,
   "metadata": {
    "collapsed": false,
    "nbpresent": {
     "id": "8ac74136-b526-4bbd-8fd9-b27d50912f86"
    }
   },
   "outputs": [],
   "source": [
    "# Importing Libraries\n",
    "import os\n",
    "import numpy as np\n",
    "import pandas as pd\n",
    "import matplotlib.pyplot as plt\n",
    "from scipy import stats \n",
    "import math\n",
    "import tkinter as tk\n",
    "\n",
    "from tkinter import filedialog as fd\n",
    "\n",
    "\n",
    "print(\"import done\")"
   ]
  },
  {
   "cell_type": "markdown",
   "metadata": {},
   "source": [
    "### Packagaes for interactives"
   ]
  },
  {
   "cell_type": "code",
   "execution_count": null,
   "metadata": {
    "collapsed": false
   },
   "outputs": [],
   "source": [
    "from __future__ import print_function\n",
    "from ipywidgets import interact, interactive, fixed, interact_manual\n",
    "from ipywidgets import widgets\n",
    "from IPython.display import display, clear_output\n",
    "\n",
    "print(\"import done\")"
   ]
  },
  {
   "cell_type": "markdown",
   "metadata": {
    "nbpresent": {
     "id": "85bd9b8f-1775-43a8-a48f-ff6062a4e410"
    }
   },
   "source": [
    "### MSD calculation function\n",
    "\n",
    "\n",
    "This function calculates the MSD and takes a dt value\n",
    "The output of the function is final calculated MSDS value for the given time duration with dt time steps.\n"
   ]
  },
  {
   "cell_type": "code",
   "execution_count": null,
   "metadata": {
    "collapsed": true,
    "nbpresent": {
     "id": "b8daff9b-1b64-422a-af68-b5a1a183be2a"
    }
   },
   "outputs": [],
   "source": [
    "def compute_msd(trajectory, t_step, coords=['x', 'y']):\n",
    "    tau = trajectory['t'].copy()\n",
    "    shifts = np.floor(tau / t_step).astype(np.int)\n",
    "    msds = np.zeros(shifts.size)\n",
    "    msds_std = np.zeros(shifts.size)\n",
    "\n",
    "    for i, shift in enumerate(shifts):\n",
    "        diffs = trajectory[coords] - trajectory[coords].shift(-shift)\n",
    "        sqdist = np.square(diffs).sum(axis=1)\n",
    "        msds[i] = sqdist.mean()\n",
    "        msds_std[i] = sqdist.std()\n",
    "\n",
    "    msds = pd.DataFrame({'msds': msds, 'tau': tau, 'msds_std': msds_std})\n",
    "    return msds"
   ]
  },
  {
   "cell_type": "markdown",
   "metadata": {},
   "source": [
    "### Analysis of selected Data"
   ]
  },
  {
   "cell_type": "code",
   "execution_count": null,
   "metadata": {
    "collapsed": true,
    "nbpresent": {
     "id": "653740f3-b851-4462-be0f-08b71d173afd"
    }
   },
   "outputs": [],
   "source": [
    "# File Reading Function (needs -  files, inputsAnalysis)\n",
    "def go(minSize, minCount, msdTimeLimit, dt):\n",
    "    msdRowLimit = math.ceil(msdTimeLimit/dt)\n",
    "    for fileName in files:\n",
    "        print(\"working on file %s\" %fileName)\n",
    "        filePath = fileName\n",
    "        tmp = fileName.split(' ')\n",
    "        sampleName = tmp[0]\n",
    "        df = pd.read_excel(filePath)\n",
    "        #Filter for entries that have Particle ID = 2, then draw x1 and y1 columns\n",
    "        #toPlot = df[df['Particle ID'] == 2][[' X1 (pixels)', ' Y1 (pixels)']]\n",
    "        #plot = toPlot.plot(x=\" X1 (pixels)\", y=\" Y1 (pixels)\", kind=\"scatter\")\n",
    "        #fig = plot.get_figure()\n",
    "        #fig.savefig(\"particlePlot.png\")\n",
    "        \n",
    "        \n",
    "        #Group Data by id\n",
    "        grouped = df[[' X1 (pixels)', ' Y1 (pixels)',' X2 (pixels)', ' Y2 (pixels)', ' Particle Size (nm)']].groupby(df['Particle ID'])\n",
    "        counts = grouped.size() #Creates Series with sizes for each group\n",
    "\n",
    "        validData = []\n",
    "        msdData = []\n",
    "        acceptedParticles = []\n",
    "        for name, group in grouped:\n",
    "           \n",
    "            if counts[name] > float(minCount) and group.iloc[0][' Particle Size (nm)'] > float(minSize):\n",
    "                #Group passes -> Do things\n",
    "                #print(\"Group %s is valid data\" %name)\n",
    "                acceptedParticles.append(name)\n",
    "                validData.append({'id': \"%s\" %name, 'data': group})\n",
    "                r = group[[' X1 (pixels)', ' Y1 (pixels)']]\n",
    "                \n",
    "                maxTime = dt*counts[name]\n",
    "                t = np.linspace(0,maxTime,counts[name])\n",
    "                traj = pd.DataFrame({'t':t,'x':r[' X1 (pixels)'], 'y':r[' Y1 (pixels)']})\n",
    "                msds = compute_msd(traj, t_step=dt)\n",
    "                msdData.append({'id':\"%s\" %name, 'data':msds})\n",
    "            #else:\n",
    "                #Discarded  Data\n",
    "                #print(\"Group %s is INVALID data\" %name)\n",
    "        #msdAvgs = pd.DataFrame(columns=['t', 'msdAvg'])\n",
    "        #for time in np.arange(0, lowestTime, dt):\n",
    "        times = []\n",
    "        avgs = []\n",
    "        #print(\"The accepted particle id's from file %s are: %s\" %(fileName, acceptedParticles))\n",
    "        #For each time interval, calculate average MSD across all particles\n",
    "        for index in range(0, msdRowLimit):\n",
    "            sum = 0.0\n",
    "            avg = 0.0\n",
    "            for point in msdData:\n",
    "                #step = time % .04\n",
    "                #print(point['data'])\n",
    "                diff = point['data']['msds'].iloc[index]\n",
    "                sum = sum + diff\n",
    "        \n",
    "            avg = sum/len(msdData)\n",
    "            time = index * dt\n",
    "            times.append(time)\n",
    "            avgs.append(avg)\n",
    "            \n",
    "        \n",
    "        #msdAvgs = pd.Series(data=avgs, index=times)\n",
    "        msdAvgs = pd.DataFrame(data=avgs, index=times, columns=[\"Avg MSD\"])\n",
    "        msdAvgs.reset_index(inplace=True)\n",
    "        msdAvgs.columns = [\"Delta Time in Seconds\", \"Avg MSD\"]\n",
    "\n",
    "        plot(msdAvgs, file)\n",
    "        \n",
    "    \n",
    "    print(\"Analysis complete\")\n"
   ]
  },
  {
   "cell_type": "markdown",
   "metadata": {
    "nbpresent": {
     "id": "4b6da580-6a08-4635-9a00-9395522cf3fe"
    }
   },
   "source": [
    "### bokeh plot generation \n",
    "\n",
    "This function creates a bokeh plot from the MSD data"
   ]
  },
  {
   "cell_type": "code",
   "execution_count": null,
   "metadata": {
    "collapsed": false,
    "nbpresent": {
     "id": "8aed515b-bcf3-43c2-8f66-249751c32ff6"
    }
   },
   "outputs": [],
   "source": [
    "from bokeh.charts import Scatter, output_notebook, show\n",
    "\n",
    "def plot(df,name):\n",
    "    p = Scatter(df, x=\"Delta Time in Seconds\", y=\"Avg MSD\", title=name,\n",
    "            xlabel=\"dt\", ylabel=\"MSD\")\n",
    "    \n",
    "    xRaw = df[\"Delta Time in Seconds\"].values\n",
    "    yRaw = df[\"Avg MSD\"].values\n",
    "    \n",
    "    \n",
    "    p1, r1, a1, b1, c1= np.polyfit(xRaw, yRaw,1, full=True)\n",
    "    p2, r2, a2, b2, c2= np.polyfit(xRaw, yRaw,2, full=True)\n",
    "    \n",
    "    print(\"xRaw:%s\" %xRaw)\n",
    "    print(\"yRaw:%s\" %yRaw)\n",
    "    print(\"p1:%s\" %p1)\n",
    "    print(\"p2:%s\" %p2)\n",
    "    yLinReg = np.polyval(p1,xRaw)\n",
    "    yQuadReg = np.polyval(p2,xRaw)\n",
    "    \n",
    "    print(r1)\n",
    "\n",
    " \n",
    "    p.line(xRaw, yLinReg, color='Green')\n",
    "    p.line(xRaw, yQuadReg)\n",
    "    p.line(xRaw, yQuadReg - yRaw)\n",
    "    p.line(xRaw, yLinReg - yRaw, color= 'Green')\n",
    "    output_notebook()\n",
    "\n",
    "    show(p)\n"
   ]
  },
  {
   "cell_type": "markdown",
   "metadata": {
    "nbpresent": {
     "id": "9ea2d505-0a7b-4d42-aead-5784246d6ea1"
    }
   },
   "source": [
    "### Input File Location Selection\n",
    "#### Use the file chooser to select the input data folder  "
   ]
  },
  {
   "cell_type": "code",
   "execution_count": null,
   "metadata": {
    "collapsed": false,
    "nbpresent": {
     "id": "4f5022c1-10a4-46cf-b500-461d8126e66b"
    },
    "scrolled": true
   },
   "outputs": [],
   "source": [
    "root = tk.Tk()\n",
    "files = fd.askopenfilenames(parent=root)\n",
    "root.withdraw()\n",
    "print(\"the files chosen were the following\")\n",
    "for file in files:\n",
    "        print(file)"
   ]
  },
  {
   "cell_type": "markdown",
   "metadata": {
    "nbpresent": {
     "id": "1f198fa1-0451-4dba-a53a-1fb3062a9694"
    }
   },
   "source": [
    "# HERE WE GO\n",
    "\n",
    "### GET READY TO RUMBLEEEEEEEEEEE!!!!!\n",
    "\n",
    "The function below runs the code"
   ]
  },
  {
   "cell_type": "markdown",
   "metadata": {
    "nbpresent": {
     "id": "1eae4b16-3743-492c-842b-ae8772924d95"
    }
   },
   "source": [
    "### Input Analysis Parameters\n",
    "#### Select the appropriate input parameters in the section below.\n",
    "\n",
    "The input parameters are as follows\n",
    "1. minSize\n",
    "2. minCount\n",
    "3. msdTimeLimit\n",
    "4. dt\n",
    "\n",
    "and stored in a list in the cell below."
   ]
  },
  {
   "cell_type": "code",
   "execution_count": null,
   "metadata": {
    "collapsed": false,
    "scrolled": true
   },
   "outputs": [],
   "source": [
    "\n",
    "minSizeInput = widgets.Text(description=\"Min Particle Size\")\n",
    "minCountInput = widgets.Text(description=\"Min Count\")\n",
    "msdTimeLimitInput = widgets.Text(description=\"Total Analysis Time\")\n",
    "dtInput = widgets.Text(description=\"delta-T\")\n",
    "\n",
    "display(minSizeInput)\n",
    "display(minCountInput)\n",
    "display(msdTimeLimitInput)\n",
    "display(dtInput)\n",
    "\n",
    "  \n",
    "def inputAssignment(b):\n",
    "    clear_output()\n",
    "    tmp = True\n",
    "    for parameter in [minSizeInput, minCountInput, msdTimeLimitInput, dtInput]:\n",
    "        if parameter.value == \"\":\n",
    "            tmp = False\n",
    "    if tmp:\n",
    "        print(\"The chosen analysis parameters are as follows:\")\n",
    "        print(minSizeInput.value, minCountInput.value, msdTimeLimitInput.value, dtInput.value)\n",
    "        go(int(minSizeInput.value), int(minCountInput.value), float(msdTimeLimitInput.value), float(dtInput.value))\n",
    "\n",
    "    \n",
    "button  = widgets.Button(description=\"TIME TO RUMBLE!!\")\n",
    "display(button)\n",
    "\n",
    "button.on_click(inputAssignment)\n",
    "\n",
    "    "
   ]
  }
 ],
 "metadata": {
  "anaconda-cloud": {},
  "kernelspec": {
   "display_name": "Python [conda root]",
   "language": "python",
   "name": "conda-root-py"
  },
  "language_info": {
   "codemirror_mode": {
    "name": "ipython",
    "version": 3
   },
   "file_extension": ".py",
   "mimetype": "text/x-python",
   "name": "python",
   "nbconvert_exporter": "python",
   "pygments_lexer": "ipython3",
   "version": "3.5.2"
  },
  "widgets": {
   "state": {
    "028309c603334cbeb9d774f5ae6eead7": {
     "views": [
      {
       "cell_index": 17
      }
     ]
    },
    "1045a6af2eb848a2a6e086d91ebde173": {
     "views": [
      {
       "cell_index": 17
      }
     ]
    },
    "1a6e39d82e7947028a0d1a7b641dcd19": {
     "views": [
      {
       "cell_index": 17
      }
     ]
    },
    "28596f74b9974bfd8fe100fdef17dbd1": {
     "views": [
      {
       "cell_index": 17
      }
     ]
    },
    "473017be6c3b4872add6f05da14743da": {
     "views": [
      {
       "cell_index": 17
      }
     ]
    },
    "72ab60d71a8c49ac870693eb372a8033": {
     "views": [
      {
       "cell_index": 17
      }
     ]
    },
    "87e63a0d603c4b18975228b3a8eb078a": {
     "views": [
      {
       "cell_index": 17
      }
     ]
    },
    "a384961e4a474aaaa48dddb026fe6df5": {
     "views": [
      {
       "cell_index": 17
      }
     ]
    },
    "a9156760890d456db1caad3fa871b9fc": {
     "views": [
      {
       "cell_index": 17
      }
     ]
    },
    "abb56912f7544b2a91b47d1d5f85fee6": {
     "views": [
      {
       "cell_index": 17
      }
     ]
    },
    "b026b14d1e284eb8b5891df87d98b1b6": {
     "views": [
      {
       "cell_index": 17
      }
     ]
    },
    "b9f4f654221c4449995f102c45b54453": {
     "views": [
      {
       "cell_index": 17
      }
     ]
    },
    "be6370ad8a6046e8ab17c9774dc57f8c": {
     "views": [
      {
       "cell_index": 17
      }
     ]
    },
    "e2c521ab4e634edd82896f01e946c649": {
     "views": [
      {
       "cell_index": 17
      }
     ]
    },
    "f9425d05f732476fbc43a45cdfff785f": {
     "views": [
      {
       "cell_index": 17
      }
     ]
    }
   },
   "version": "1.2.0"
  }
 },
 "nbformat": 4,
 "nbformat_minor": 1
}
