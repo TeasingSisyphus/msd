{
 "cells": [
  {
   "cell_type": "markdown",
   "metadata": {
    "nbpresent": {
     "id": "fc95b772-1654-4eae-bb02-5d0530220130"
    }
   },
   "source": [
    "# MSD Calculator Program\n",
    "### Migration into Jupyter Notebook Leveraging BokehJS for the Plots\n",
    "\n",
    "This program is desigend to take csv or tsv data with particle trajectories and calculate mean square displacement for a subset of trajectories that meet the acceptance criteria."
   ]
  },
  {
   "cell_type": "code",
   "execution_count": null,
   "metadata": {
    "collapsed": false,
    "nbpresent": {
     "id": "8ac74136-b526-4bbd-8fd9-b27d50912f86"
    }
   },
   "outputs": [],
   "source": [
    "# Importing Libraries\n",
    "import os\n",
    "import numpy as np\n",
    "import pandas as pd\n",
    "import matplotlib.pyplot as plt\n",
    "from scipy import stats \n",
    "import math\n",
    "import tkinter as tk\n",
    "from tkinter import filedialog as fd\n",
    "\n",
    "\n",
    "print(\"import done\")"
   ]
  },
  {
   "cell_type": "markdown",
   "metadata": {},
   "source": [
    "### Packagaes for interactives"
   ]
  },
  {
   "cell_type": "code",
   "execution_count": null,
   "metadata": {
    "collapsed": false
   },
   "outputs": [],
   "source": [
    "from __future__ import print_function\n",
    "from ipywidgets import interact, interactive, fixed, interact_manual\n",
    "from ipywidgets import widgets\n",
    "from IPython.display import display, clear_output()\n",
    "\n",
    "print(\"import done\")"
   ]
  },
  {
   "cell_type": "code",
   "execution_count": null,
   "metadata": {
    "collapsed": true,
    "nbpresent": {
     "id": "653740f3-b851-4462-be0f-08b71d173afd"
    }
   },
   "outputs": [],
   "source": [
    "# File Reading Function (needs -  files, inputsAnalysis)\n",
    "def go(minSize, minCount, msdTimeLimit, dt):\n",
    "    msdRowLimit = math.ceil(msdTimeLimit/dt)\n",
    "    for fileName in files:\n",
    "        print(\"working on file %s\" %fileName)\n",
    "        filePath = fileName\n",
    "        tmp = fileName.split(' ')\n",
    "        sampleName = tmp[0]\n",
    "        df = pd.read_excel(filePath)\n",
    "        #Filter for entries that have Particle ID = 2, then draw x1 and y1 columns\n",
    "        #toPlot = df[df['Particle ID'] == 2][[' X1 (pixels)', ' Y1 (pixels)']]\n",
    "        #plot = toPlot.plot(x=\" X1 (pixels)\", y=\" Y1 (pixels)\", kind=\"scatter\")\n",
    "        #fig = plot.get_figure()\n",
    "        #fig.savefig(\"particlePlot.png\")\n",
    "        \n",
    "        \n",
    "        #Group Data by id\n",
    "        grouped = df[[' X1 (pixels)', ' Y1 (pixels)',' X2 (pixels)', ' Y2 (pixels)', ' Particle Size (nm)']].groupby(df['Particle ID'])\n",
    "        counts = grouped.size() #Creates Series with sizes for each group\n",
    "\n",
    "        validData = []\n",
    "        msdData = []\n",
    "        acceptedParticles = []\n",
    "        for name, group in grouped:\n",
    "           \n",
    "            if counts[name] > float(minCount) and group.iloc[0][' Particle Size (nm)'] > float(minSize):\n",
    "                #Group passes -> Do things\n",
    "                #print(\"Group %s is valid data\" %name)\n",
    "                acceptedParticles.append(name)\n",
    "                validData.append({'id': \"%s\" %name, 'data': group})\n",
    "                r = group[[' X1 (pixels)', ' Y1 (pixels)']]\n",
    "                \n",
    "                maxTime = dt*counts[name]\n",
    "                t = np.linspace(0,maxTime,counts[name])\n",
    "                traj = pd.DataFrame({'t':t,'x':r[' X1 (pixels)'], 'y':r[' Y1 (pixels)']})\n",
    "                msds = compute_msd(traj, t_step=dt)\n",
    "                msdData.append({'id':\"%s\" %name, 'data':msds})\n",
    "            #else:\n",
    "                #Discarded  Data\n",
    "                #print(\"Group %s is INVALID data\" %name)\n",
    "        #msdAvgs = pd.DataFrame(columns=['t', 'msdAvg'])\n",
    "        #for time in np.arange(0, lowestTime, dt):\n",
    "        times = []\n",
    "        avgs = []\n",
    "        #print(\"The accepted particle id's from file %s are: %s\" %(fileName, acceptedParticles))\n",
    "        #For each time interval, calculate average MSD across all particles\n",
    "        for index in range(0, msdRowLimit):\n",
    "            sum = 0.0\n",
    "            avg = 0.0\n",
    "            for point in msdData:\n",
    "                #step = time % .04\n",
    "                #print(point['data'])\n",
    "                diff = point['data']['msds'].iloc[index]\n",
    "                sum = sum + diff\n",
    "        \n",
    "            avg = sum/len(msdData)\n",
    "            time = index * dt\n",
    "            times.append(time)\n",
    "            avgs.append(avg)\n",
    "            \n",
    "        \n",
    "        #msdAvgs = pd.Series(data=avgs, index=times)\n",
    "        msdAvgs = pd.DataFrame(data=avgs, index=times, columns=[\"Avg MSD\"])\n",
    "        msdAvgs.reset_index(inplace=True)\n",
    "        msdAvgs.columns = [\"Delta Time in Seconds\", \"Avg MSD\"]\n",
    "\n",
    "        plot(msdAvgs, file)\n",
    "        \n",
    "    \n",
    "    print(\"Analysis complete\")\n"
   ]
  },
  {
   "cell_type": "markdown",
   "metadata": {
    "nbpresent": {
     "id": "85bd9b8f-1775-43a8-a48f-ff6062a4e410"
    }
   },
   "source": [
    "### MSD calculation function\n",
    "\n",
    "\n",
    "This function calculates the MSD and takes a dt value\n",
    "The output of the function is final calculated MSDS value for the given time duration with dt time steps.\n"
   ]
  },
  {
   "cell_type": "code",
   "execution_count": null,
   "metadata": {
    "collapsed": true,
    "nbpresent": {
     "id": "b8daff9b-1b64-422a-af68-b5a1a183be2a"
    }
   },
   "outputs": [],
   "source": [
    "def compute_msd(trajectory, t_step, coords=['x', 'y']):\n",
    "    tau = trajectory['t'].copy()\n",
    "    shifts = np.floor(tau / t_step).astype(np.int)\n",
    "    msds = np.zeros(shifts.size)\n",
    "    msds_std = np.zeros(shifts.size)\n",
    "\n",
    "    for i, shift in enumerate(shifts):\n",
    "        diffs = trajectory[coords] - trajectory[coords].shift(-shift)\n",
    "        sqdist = np.square(diffs).sum(axis=1)\n",
    "        msds[i] = sqdist.mean()\n",
    "        msds_std[i] = sqdist.std()\n",
    "\n",
    "    msds = pd.DataFrame({'msds': msds, 'tau': tau, 'msds_std': msds_std})\n",
    "    return msds"
   ]
  },
  {
   "cell_type": "markdown",
   "metadata": {
    "nbpresent": {
     "id": "4b6da580-6a08-4635-9a00-9395522cf3fe"
    }
   },
   "source": [
    "### bokeh plot generation \n",
    "\n",
    "This function creates a bokeh plot from the MSD data"
   ]
  },
  {
   "cell_type": "code",
   "execution_count": null,
   "metadata": {
    "collapsed": true,
    "nbpresent": {
     "id": "8aed515b-bcf3-43c2-8f66-249751c32ff6"
    }
   },
   "outputs": [],
   "source": [
    "from bokeh.charts import Scatter, output_notebook, show\n",
    "\n",
    "def plot(df,name):\n",
    "    p = Scatter(df, x=\"Delta Time in Seconds\", y=\"Avg MSD\", title=name,\n",
    "            xlabel=\"dt\", ylabel=\"MSD\")\n",
    "\n",
    "    output_notebook()\n",
    "\n",
    "    show(p)"
   ]
  },
  {
   "cell_type": "markdown",
   "metadata": {
    "nbpresent": {
     "id": "9ea2d505-0a7b-4d42-aead-5784246d6ea1"
    }
   },
   "source": [
    "### Input File Location Selection\n",
    "#### Use the file chooser to select the input data folder  "
   ]
  },
  {
   "cell_type": "code",
   "execution_count": null,
   "metadata": {
    "collapsed": false,
    "nbpresent": {
     "id": "4f5022c1-10a4-46cf-b500-461d8126e66b"
    },
    "scrolled": true
   },
   "outputs": [],
   "source": [
    "root = tk.Tk()\n",
    "files = fd.askopenfilenames(parent=root)\n",
    "root.withdraw()\n",
    "print(\"the files chosen were the following\")\n",
    "for file in files:\n",
    "        print(file + \"/n\")"
   ]
  },
  {
   "cell_type": "markdown",
   "metadata": {
    "nbpresent": {
     "id": "1f198fa1-0451-4dba-a53a-1fb3062a9694"
    }
   },
   "source": [
    "# HERE WE GO\n",
    "\n",
    "### GET READY TO RUMBLEEEEEEEEEEE!!!!!\n",
    "\n",
    "The function below runs the code"
   ]
  },
  {
   "cell_type": "markdown",
   "metadata": {
    "nbpresent": {
     "id": "1eae4b16-3743-492c-842b-ae8772924d95"
    }
   },
   "source": [
    "### Input Analysis Parameters\n",
    "#### Select the appropriate input parameters in the section below.\n",
    "\n",
    "The input parameters are as follows\n",
    "1. minSize\n",
    "2. minCount\n",
    "3. msdTimeLimit\n",
    "4. dt\n",
    "\n",
    "and stored in a list in the cell below."
   ]
  },
  {
   "cell_type": "code",
   "execution_count": null,
   "metadata": {
    "collapsed": false,
    "nbpresent": {
     "id": "e34b21e5-1fdb-4f14-b147-d7f3cbc4024c"
    }
   },
   "outputs": [
    {
     "data": {
      "text/html": [
       "\n",
       "    <div class=\"bk-root\">\n",
       "        <a href=\"http://bokeh.pydata.org\" target=\"_blank\" class=\"bk-logo bk-logo-small bk-logo-notebook\"></a>\n",
       "        <span id=\"1baa8a37-71b5-40a8-8499-15858b89ccb0\">Loading BokehJS ...</span>\n",
       "    </div>"
      ]
     },
     "metadata": {},
     "output_type": "display_data"
    },
    {
     "data": {
      "application/javascript": [
       "\n",
       "(function(global) {\n",
       "  function now() {\n",
       "    return new Date();\n",
       "  }\n",
       "\n",
       "  var force = \"1\";\n",
       "\n",
       "  if (typeof (window._bokeh_onload_callbacks) === \"undefined\" || force !== \"\") {\n",
       "    window._bokeh_onload_callbacks = [];\n",
       "    window._bokeh_is_loading = undefined;\n",
       "  }\n",
       "\n",
       "\n",
       "  \n",
       "  if (typeof (window._bokeh_timeout) === \"undefined\" || force !== \"\") {\n",
       "    window._bokeh_timeout = Date.now() + 5000;\n",
       "    window._bokeh_failed_load = false;\n",
       "  }\n",
       "\n",
       "  var NB_LOAD_WARNING = {'data': {'text/html':\n",
       "     \"<div style='background-color: #fdd'>\\n\"+\n",
       "     \"<p>\\n\"+\n",
       "     \"BokehJS does not appear to have successfully loaded. If loading BokehJS from CDN, this \\n\"+\n",
       "     \"may be due to a slow or bad network connection. Possible fixes:\\n\"+\n",
       "     \"</p>\\n\"+\n",
       "     \"<ul>\\n\"+\n",
       "     \"<li>re-rerun `output_notebook()` to attempt to load from CDN again, or</li>\\n\"+\n",
       "     \"<li>use INLINE resources instead, as so:</li>\\n\"+\n",
       "     \"</ul>\\n\"+\n",
       "     \"<code>\\n\"+\n",
       "     \"from bokeh.resources import INLINE\\n\"+\n",
       "     \"output_notebook(resources=INLINE)\\n\"+\n",
       "     \"</code>\\n\"+\n",
       "     \"</div>\"}};\n",
       "\n",
       "  function display_loaded() {\n",
       "    if (window.Bokeh !== undefined) {\n",
       "      Bokeh.$(\"#1baa8a37-71b5-40a8-8499-15858b89ccb0\").text(\"BokehJS successfully loaded.\");\n",
       "    } else if (Date.now() < window._bokeh_timeout) {\n",
       "      setTimeout(display_loaded, 100)\n",
       "    }\n",
       "  }\n",
       "\n",
       "  function run_callbacks() {\n",
       "    window._bokeh_onload_callbacks.forEach(function(callback) { callback() });\n",
       "    delete window._bokeh_onload_callbacks\n",
       "    console.info(\"Bokeh: all callbacks have finished\");\n",
       "  }\n",
       "\n",
       "  function load_libs(js_urls, callback) {\n",
       "    window._bokeh_onload_callbacks.push(callback);\n",
       "    if (window._bokeh_is_loading > 0) {\n",
       "      console.log(\"Bokeh: BokehJS is being loaded, scheduling callback at\", now());\n",
       "      return null;\n",
       "    }\n",
       "    if (js_urls == null || js_urls.length === 0) {\n",
       "      run_callbacks();\n",
       "      return null;\n",
       "    }\n",
       "    console.log(\"Bokeh: BokehJS not loaded, scheduling load and callback at\", now());\n",
       "    window._bokeh_is_loading = js_urls.length;\n",
       "    for (var i = 0; i < js_urls.length; i++) {\n",
       "      var url = js_urls[i];\n",
       "      var s = document.createElement('script');\n",
       "      s.src = url;\n",
       "      s.async = false;\n",
       "      s.onreadystatechange = s.onload = function() {\n",
       "        window._bokeh_is_loading--;\n",
       "        if (window._bokeh_is_loading === 0) {\n",
       "          console.log(\"Bokeh: all BokehJS libraries loaded\");\n",
       "          run_callbacks()\n",
       "        }\n",
       "      };\n",
       "      s.onerror = function() {\n",
       "        console.warn(\"failed to load library \" + url);\n",
       "      };\n",
       "      console.log(\"Bokeh: injecting script tag for BokehJS library: \", url);\n",
       "      document.getElementsByTagName(\"head\")[0].appendChild(s);\n",
       "    }\n",
       "  };var element = document.getElementById(\"1baa8a37-71b5-40a8-8499-15858b89ccb0\");\n",
       "  if (element == null) {\n",
       "    console.log(\"Bokeh: ERROR: autoload.js configured with elementid '1baa8a37-71b5-40a8-8499-15858b89ccb0' but no matching script tag was found. \")\n",
       "    return false;\n",
       "  }\n",
       "\n",
       "  var js_urls = ['https://cdn.pydata.org/bokeh/release/bokeh-0.12.2.min.js', 'https://cdn.pydata.org/bokeh/release/bokeh-widgets-0.12.2.min.js', 'https://cdn.pydata.org/bokeh/release/bokeh-compiler-0.12.2.min.js'];\n",
       "\n",
       "  var inline_js = [\n",
       "    function(Bokeh) {\n",
       "      Bokeh.set_log_level(\"info\");\n",
       "    },\n",
       "    \n",
       "    function(Bokeh) {\n",
       "      \n",
       "      Bokeh.$(\"#1baa8a37-71b5-40a8-8499-15858b89ccb0\").text(\"BokehJS is loading...\");\n",
       "    },\n",
       "    function(Bokeh) {\n",
       "      console.log(\"Bokeh: injecting CSS: https://cdn.pydata.org/bokeh/release/bokeh-0.12.2.min.css\");\n",
       "      Bokeh.embed.inject_css(\"https://cdn.pydata.org/bokeh/release/bokeh-0.12.2.min.css\");\n",
       "      console.log(\"Bokeh: injecting CSS: https://cdn.pydata.org/bokeh/release/bokeh-widgets-0.12.2.min.css\");\n",
       "      Bokeh.embed.inject_css(\"https://cdn.pydata.org/bokeh/release/bokeh-widgets-0.12.2.min.css\");\n",
       "    }\n",
       "  ];\n",
       "\n",
       "  function run_inline_js() {\n",
       "    \n",
       "    if ((window.Bokeh !== undefined) || (force === \"1\")) {\n",
       "      for (var i = 0; i < inline_js.length; i++) {\n",
       "        inline_js[i](window.Bokeh);\n",
       "      }if (force === \"1\") {\n",
       "        display_loaded();\n",
       "      }} else if (Date.now() < window._bokeh_timeout) {\n",
       "      setTimeout(run_inline_js, 100);\n",
       "    } else if (!window._bokeh_failed_load) {\n",
       "      console.log(\"Bokeh: BokehJS failed to load within specified timeout.\");\n",
       "      window._bokeh_failed_load = true;\n",
       "    } else if (!force) {\n",
       "      var cell = $(\"#1baa8a37-71b5-40a8-8499-15858b89ccb0\").parents('.cell').data().cell;\n",
       "      cell.output_area.append_execute_result(NB_LOAD_WARNING)\n",
       "    }\n",
       "\n",
       "  }\n",
       "\n",
       "  if (window._bokeh_is_loading === 0) {\n",
       "    console.log(\"Bokeh: BokehJS loaded, going straight to plotting\");\n",
       "    run_inline_js();\n",
       "  } else {\n",
       "    load_libs(js_urls, function() {\n",
       "      console.log(\"Bokeh: BokehJS plotting callback run at\", now());\n",
       "      run_inline_js();\n",
       "    });\n",
       "  }\n",
       "}(this));"
      ]
     },
     "metadata": {},
     "output_type": "display_data"
    },
    {
     "data": {
      "text/html": [
       "\n",
       "\n",
       "    <div class=\"bk-root\">\n",
       "        <div class=\"plotdiv\" id=\"f158b410-bed9-4f24-8352-dec7f439ea8e\"></div>\n",
       "    </div>\n",
       "<script type=\"text/javascript\">\n",
       "  \n",
       "  (function(global) {\n",
       "    function now() {\n",
       "      return new Date();\n",
       "    }\n",
       "  \n",
       "    var force = \"\";\n",
       "  \n",
       "    if (typeof (window._bokeh_onload_callbacks) === \"undefined\" || force !== \"\") {\n",
       "      window._bokeh_onload_callbacks = [];\n",
       "      window._bokeh_is_loading = undefined;\n",
       "    }\n",
       "  \n",
       "  \n",
       "    \n",
       "    if (typeof (window._bokeh_timeout) === \"undefined\" || force !== \"\") {\n",
       "      window._bokeh_timeout = Date.now() + 0;\n",
       "      window._bokeh_failed_load = false;\n",
       "    }\n",
       "  \n",
       "    var NB_LOAD_WARNING = {'data': {'text/html':\n",
       "       \"<div style='background-color: #fdd'>\\n\"+\n",
       "       \"<p>\\n\"+\n",
       "       \"BokehJS does not appear to have successfully loaded. If loading BokehJS from CDN, this \\n\"+\n",
       "       \"may be due to a slow or bad network connection. Possible fixes:\\n\"+\n",
       "       \"</p>\\n\"+\n",
       "       \"<ul>\\n\"+\n",
       "       \"<li>re-rerun `output_notebook()` to attempt to load from CDN again, or</li>\\n\"+\n",
       "       \"<li>use INLINE resources instead, as so:</li>\\n\"+\n",
       "       \"</ul>\\n\"+\n",
       "       \"<code>\\n\"+\n",
       "       \"from bokeh.resources import INLINE\\n\"+\n",
       "       \"output_notebook(resources=INLINE)\\n\"+\n",
       "       \"</code>\\n\"+\n",
       "       \"</div>\"}};\n",
       "  \n",
       "    function display_loaded() {\n",
       "      if (window.Bokeh !== undefined) {\n",
       "        Bokeh.$(\"#f158b410-bed9-4f24-8352-dec7f439ea8e\").text(\"BokehJS successfully loaded.\");\n",
       "      } else if (Date.now() < window._bokeh_timeout) {\n",
       "        setTimeout(display_loaded, 100)\n",
       "      }\n",
       "    }\n",
       "  \n",
       "    function run_callbacks() {\n",
       "      window._bokeh_onload_callbacks.forEach(function(callback) { callback() });\n",
       "      delete window._bokeh_onload_callbacks\n",
       "      console.info(\"Bokeh: all callbacks have finished\");\n",
       "    }\n",
       "  \n",
       "    function load_libs(js_urls, callback) {\n",
       "      window._bokeh_onload_callbacks.push(callback);\n",
       "      if (window._bokeh_is_loading > 0) {\n",
       "        console.log(\"Bokeh: BokehJS is being loaded, scheduling callback at\", now());\n",
       "        return null;\n",
       "      }\n",
       "      if (js_urls == null || js_urls.length === 0) {\n",
       "        run_callbacks();\n",
       "        return null;\n",
       "      }\n",
       "      console.log(\"Bokeh: BokehJS not loaded, scheduling load and callback at\", now());\n",
       "      window._bokeh_is_loading = js_urls.length;\n",
       "      for (var i = 0; i < js_urls.length; i++) {\n",
       "        var url = js_urls[i];\n",
       "        var s = document.createElement('script');\n",
       "        s.src = url;\n",
       "        s.async = false;\n",
       "        s.onreadystatechange = s.onload = function() {\n",
       "          window._bokeh_is_loading--;\n",
       "          if (window._bokeh_is_loading === 0) {\n",
       "            console.log(\"Bokeh: all BokehJS libraries loaded\");\n",
       "            run_callbacks()\n",
       "          }\n",
       "        };\n",
       "        s.onerror = function() {\n",
       "          console.warn(\"failed to load library \" + url);\n",
       "        };\n",
       "        console.log(\"Bokeh: injecting script tag for BokehJS library: \", url);\n",
       "        document.getElementsByTagName(\"head\")[0].appendChild(s);\n",
       "      }\n",
       "    };var element = document.getElementById(\"f158b410-bed9-4f24-8352-dec7f439ea8e\");\n",
       "    if (element == null) {\n",
       "      console.log(\"Bokeh: ERROR: autoload.js configured with elementid 'f158b410-bed9-4f24-8352-dec7f439ea8e' but no matching script tag was found. \")\n",
       "      return false;\n",
       "    }\n",
       "  \n",
       "    var js_urls = [];\n",
       "  \n",
       "    var inline_js = [\n",
       "      function(Bokeh) {\n",
       "        Bokeh.$(function() {\n",
       "            var docs_json = {\"7118277e-2ba9-4615-8995-2d6e018b79f1\":{\"roots\":{\"references\":[{\"attributes\":{\"overlay\":{\"id\":\"c7649fd8-418c-4d1b-8537-921755f1da16\",\"type\":\"BoxAnnotation\"},\"plot\":{\"id\":\"1b5b62d6-de07-42d2-9633-2ad7a8b85669\",\"subtype\":\"Chart\",\"type\":\"Plot\"}},\"id\":\"722ae6bb-76d7-476e-8802-496fcf428d70\",\"type\":\"BoxZoomTool\"},{\"attributes\":{\"data_source\":{\"id\":\"0f2c6b0b-0f5d-47c4-8315-b1851bccfe51\",\"type\":\"ColumnDataSource\"},\"glyph\":{\"id\":\"5ecc22cb-b55b-4aef-863f-9c4bf0ae7d96\",\"type\":\"Circle\"},\"hover_glyph\":null,\"nonselection_glyph\":null,\"selection_glyph\":null},\"id\":\"364fc6f8-45a3-449f-b87b-0d50fb864a31\",\"type\":\"GlyphRenderer\"},{\"attributes\":{},\"id\":\"3f212b2d-5622-4b63-aae0-eb04eebc4287\",\"type\":\"BasicTickFormatter\"},{\"attributes\":{\"location\":\"top_left\",\"plot\":{\"id\":\"1b5b62d6-de07-42d2-9633-2ad7a8b85669\",\"subtype\":\"Chart\",\"type\":\"Plot\"}},\"id\":\"c59329ba-cfd8-4f5d-a1ed-f36414616f39\",\"type\":\"Legend\"},{\"attributes\":{\"plot\":{\"id\":\"1b5b62d6-de07-42d2-9633-2ad7a8b85669\",\"subtype\":\"Chart\",\"type\":\"Plot\"}},\"id\":\"8d0cc9bb-754e-45f7-86ca-3615f293b7f7\",\"type\":\"SaveTool\"},{\"attributes\":{\"callback\":null,\"end\":241.70540625508897,\"start\":-21.973218750462635},\"id\":\"f11edb64-b022-45d9-b5e8-c07f386c252d\",\"type\":\"Range1d\"},{\"attributes\":{\"plot\":{\"id\":\"1b5b62d6-de07-42d2-9633-2ad7a8b85669\",\"subtype\":\"Chart\",\"type\":\"Plot\"}},\"id\":\"7c8cb13a-cb59-4998-8887-0096ba21ed37\",\"type\":\"ResetTool\"},{\"attributes\":{},\"id\":\"e984fd0c-f6fe-467d-88c7-b6b71b5506f2\",\"type\":\"BasicTickFormatter\"},{\"attributes\":{},\"id\":\"854c6fe8-e4b6-4cb7-a679-9e015e488698\",\"type\":\"BasicTicker\"},{\"attributes\":{\"plot\":{\"id\":\"1b5b62d6-de07-42d2-9633-2ad7a8b85669\",\"subtype\":\"Chart\",\"type\":\"Plot\"}},\"id\":\"6643f2bd-4793-40fd-9de8-09955dea2759\",\"type\":\"PanTool\"},{\"attributes\":{\"bottom_units\":\"screen\",\"fill_alpha\":{\"value\":0.5},\"fill_color\":{\"value\":\"lightgrey\"},\"left_units\":\"screen\",\"level\":\"overlay\",\"line_alpha\":{\"value\":1.0},\"line_color\":{\"value\":\"black\"},\"line_dash\":[4,4],\"line_width\":{\"value\":2},\"plot\":null,\"render_mode\":\"css\",\"right_units\":\"screen\",\"top_units\":\"screen\"},\"id\":\"c7649fd8-418c-4d1b-8537-921755f1da16\",\"type\":\"BoxAnnotation\"},{\"attributes\":{\"plot\":{\"id\":\"1b5b62d6-de07-42d2-9633-2ad7a8b85669\",\"subtype\":\"Chart\",\"type\":\"Plot\"},\"ticker\":{\"id\":\"42bc53ea-1b5f-4ee1-b643-122a07204788\",\"type\":\"BasicTicker\"}},\"id\":\"9c754b2a-cc9e-4a33-aaf3-00a4d18a729d\",\"type\":\"Grid\"},{\"attributes\":{\"plot\":{\"id\":\"1b5b62d6-de07-42d2-9633-2ad7a8b85669\",\"subtype\":\"Chart\",\"type\":\"Plot\"}},\"id\":\"0742d4a8-d9a9-4d8e-b8e7-94c464fbf8e8\",\"type\":\"WheelZoomTool\"},{\"attributes\":{\"plot\":null,\"text\":\"E:/Code/pythonPractice/MSD/data/file.xls\"},\"id\":\"bd342332-628c-4087-bd0e-0615017e4e2e\",\"type\":\"Title\"},{\"attributes\":{\"callback\":null,\"column_names\":[\"y_values\",\"x_values\"],\"data\":{\"chart_index\":[null,null,null,null,null,null,null,null,null,null,null,null,null,null],\"x_values\":[0.0,0.04,0.08,0.12,0.16,0.2,0.24,0.28,0.32,0.36,0.4,0.44,0.48,0.52],\"y_values\":[0.0,12.87181355396218,26.31513778590086,40.42298431549368,55.47412239991254,71.29421011569822,87.61798662440982,104.48630691469654,122.06205018591524,140.43321424847593,159.52410673277575,179.09171328338365,199.21028725019286,219.73218750462635]}},\"id\":\"0f2c6b0b-0f5d-47c4-8315-b1851bccfe51\",\"type\":\"ColumnDataSource\"},{\"attributes\":{\"fill_alpha\":{\"value\":0.7},\"fill_color\":{\"value\":\"#f22c40\"},\"line_color\":{\"value\":\"#f22c40\"},\"size\":{\"units\":\"screen\",\"value\":8},\"x\":{\"field\":\"x_values\"},\"y\":{\"field\":\"y_values\"}},\"id\":\"5ecc22cb-b55b-4aef-863f-9c4bf0ae7d96\",\"type\":\"Circle\"},{\"attributes\":{\"active_drag\":\"auto\",\"active_scroll\":\"auto\",\"active_tap\":\"auto\",\"tools\":[{\"id\":\"6643f2bd-4793-40fd-9de8-09955dea2759\",\"type\":\"PanTool\"},{\"id\":\"0742d4a8-d9a9-4d8e-b8e7-94c464fbf8e8\",\"type\":\"WheelZoomTool\"},{\"id\":\"722ae6bb-76d7-476e-8802-496fcf428d70\",\"type\":\"BoxZoomTool\"},{\"id\":\"8d0cc9bb-754e-45f7-86ca-3615f293b7f7\",\"type\":\"SaveTool\"},{\"id\":\"7c8cb13a-cb59-4998-8887-0096ba21ed37\",\"type\":\"ResetTool\"},{\"id\":\"9b685eae-03e8-4d24-b54f-b79192897f27\",\"type\":\"HelpTool\"}]},\"id\":\"7c346070-7529-4c50-b290-c06456dd1cd3\",\"type\":\"Toolbar\"},{\"attributes\":{},\"id\":\"42bc53ea-1b5f-4ee1-b643-122a07204788\",\"type\":\"BasicTicker\"},{\"attributes\":{\"callback\":null,\"end\":0.5720000000000001,\"start\":-0.052000000000000005},\"id\":\"7dae9d4d-2770-4649-a596-3a6f4a194ade\",\"type\":\"Range1d\"},{\"attributes\":{\"axis_label\":\"MSD\",\"formatter\":{\"id\":\"e984fd0c-f6fe-467d-88c7-b6b71b5506f2\",\"type\":\"BasicTickFormatter\"},\"plot\":{\"id\":\"1b5b62d6-de07-42d2-9633-2ad7a8b85669\",\"subtype\":\"Chart\",\"type\":\"Plot\"},\"ticker\":{\"id\":\"854c6fe8-e4b6-4cb7-a679-9e015e488698\",\"type\":\"BasicTicker\"}},\"id\":\"24e6aadc-cfbf-4b27-8f58-bc900721da6f\",\"type\":\"LinearAxis\"},{\"attributes\":{\"axis_label\":\"dt\",\"formatter\":{\"id\":\"3f212b2d-5622-4b63-aae0-eb04eebc4287\",\"type\":\"BasicTickFormatter\"},\"plot\":{\"id\":\"1b5b62d6-de07-42d2-9633-2ad7a8b85669\",\"subtype\":\"Chart\",\"type\":\"Plot\"},\"ticker\":{\"id\":\"42bc53ea-1b5f-4ee1-b643-122a07204788\",\"type\":\"BasicTicker\"}},\"id\":\"85d5c192-d05a-47e6-84f8-0f5e95492c36\",\"type\":\"LinearAxis\"},{\"attributes\":{\"below\":[{\"id\":\"85d5c192-d05a-47e6-84f8-0f5e95492c36\",\"type\":\"LinearAxis\"}],\"left\":[{\"id\":\"24e6aadc-cfbf-4b27-8f58-bc900721da6f\",\"type\":\"LinearAxis\"}],\"renderers\":[{\"id\":\"c7649fd8-418c-4d1b-8537-921755f1da16\",\"type\":\"BoxAnnotation\"},{\"id\":\"364fc6f8-45a3-449f-b87b-0d50fb864a31\",\"type\":\"GlyphRenderer\"},{\"id\":\"c59329ba-cfd8-4f5d-a1ed-f36414616f39\",\"type\":\"Legend\"},{\"id\":\"85d5c192-d05a-47e6-84f8-0f5e95492c36\",\"type\":\"LinearAxis\"},{\"id\":\"24e6aadc-cfbf-4b27-8f58-bc900721da6f\",\"type\":\"LinearAxis\"},{\"id\":\"9c754b2a-cc9e-4a33-aaf3-00a4d18a729d\",\"type\":\"Grid\"},{\"id\":\"de0cbc6d-f910-4a60-8ebe-ca95fcef9461\",\"type\":\"Grid\"}],\"title\":{\"id\":\"bd342332-628c-4087-bd0e-0615017e4e2e\",\"type\":\"Title\"},\"tool_events\":{\"id\":\"ba206e6c-1313-4ff5-8476-bf19c48f94bc\",\"type\":\"ToolEvents\"},\"toolbar\":{\"id\":\"7c346070-7529-4c50-b290-c06456dd1cd3\",\"type\":\"Toolbar\"},\"x_mapper_type\":\"auto\",\"x_range\":{\"id\":\"7dae9d4d-2770-4649-a596-3a6f4a194ade\",\"type\":\"Range1d\"},\"y_mapper_type\":\"auto\",\"y_range\":{\"id\":\"f11edb64-b022-45d9-b5e8-c07f386c252d\",\"type\":\"Range1d\"}},\"id\":\"1b5b62d6-de07-42d2-9633-2ad7a8b85669\",\"subtype\":\"Chart\",\"type\":\"Plot\"},{\"attributes\":{\"plot\":{\"id\":\"1b5b62d6-de07-42d2-9633-2ad7a8b85669\",\"subtype\":\"Chart\",\"type\":\"Plot\"}},\"id\":\"9b685eae-03e8-4d24-b54f-b79192897f27\",\"type\":\"HelpTool\"},{\"attributes\":{},\"id\":\"ba206e6c-1313-4ff5-8476-bf19c48f94bc\",\"type\":\"ToolEvents\"},{\"attributes\":{\"dimension\":1,\"plot\":{\"id\":\"1b5b62d6-de07-42d2-9633-2ad7a8b85669\",\"subtype\":\"Chart\",\"type\":\"Plot\"},\"ticker\":{\"id\":\"854c6fe8-e4b6-4cb7-a679-9e015e488698\",\"type\":\"BasicTicker\"}},\"id\":\"de0cbc6d-f910-4a60-8ebe-ca95fcef9461\",\"type\":\"Grid\"}],\"root_ids\":[\"1b5b62d6-de07-42d2-9633-2ad7a8b85669\"]},\"title\":\"Bokeh Application\",\"version\":\"0.12.2\"}};\n",
       "            var render_items = [{\"docid\":\"7118277e-2ba9-4615-8995-2d6e018b79f1\",\"elementid\":\"f158b410-bed9-4f24-8352-dec7f439ea8e\",\"modelid\":\"1b5b62d6-de07-42d2-9633-2ad7a8b85669\"}];\n",
       "            \n",
       "            Bokeh.embed.embed_items(docs_json, render_items);\n",
       "        });\n",
       "      },\n",
       "      function(Bokeh) {\n",
       "      }\n",
       "    ];\n",
       "  \n",
       "    function run_inline_js() {\n",
       "      \n",
       "      if ((window.Bokeh !== undefined) || (force === \"1\")) {\n",
       "        for (var i = 0; i < inline_js.length; i++) {\n",
       "          inline_js[i](window.Bokeh);\n",
       "        }if (force === \"1\") {\n",
       "          display_loaded();\n",
       "        }} else if (Date.now() < window._bokeh_timeout) {\n",
       "        setTimeout(run_inline_js, 100);\n",
       "      } else if (!window._bokeh_failed_load) {\n",
       "        console.log(\"Bokeh: BokehJS failed to load within specified timeout.\");\n",
       "        window._bokeh_failed_load = true;\n",
       "      } else if (!force) {\n",
       "        var cell = $(\"#f158b410-bed9-4f24-8352-dec7f439ea8e\").parents('.cell').data().cell;\n",
       "        cell.output_area.append_execute_result(NB_LOAD_WARNING)\n",
       "      }\n",
       "  \n",
       "    }\n",
       "  \n",
       "    if (window._bokeh_is_loading === 0) {\n",
       "      console.log(\"Bokeh: BokehJS loaded, going straight to plotting\");\n",
       "      run_inline_js();\n",
       "    } else {\n",
       "      load_libs(js_urls, function() {\n",
       "        console.log(\"Bokeh: BokehJS plotting callback run at\", now());\n",
       "        run_inline_js();\n",
       "      });\n",
       "    }\n",
       "  }(this));\n",
       "</script>"
      ]
     },
     "metadata": {},
     "output_type": "display_data"
    },
    {
     "name": "stdout",
     "output_type": "stream",
     "text": [
      "working on file E:/Code/pythonPractice/MSD/data/file.xls\n"
     ]
    },
    {
     "data": {
      "text/html": [
       "\n",
       "    <div class=\"bk-root\">\n",
       "        <a href=\"http://bokeh.pydata.org\" target=\"_blank\" class=\"bk-logo bk-logo-small bk-logo-notebook\"></a>\n",
       "        <span id=\"d43b9fb1-d4ca-4a87-8bcd-8bc125b67510\">Loading BokehJS ...</span>\n",
       "    </div>"
      ]
     },
     "metadata": {},
     "output_type": "display_data"
    },
    {
     "data": {
      "application/javascript": [
       "\n",
       "(function(global) {\n",
       "  function now() {\n",
       "    return new Date();\n",
       "  }\n",
       "\n",
       "  var force = \"1\";\n",
       "\n",
       "  if (typeof (window._bokeh_onload_callbacks) === \"undefined\" || force !== \"\") {\n",
       "    window._bokeh_onload_callbacks = [];\n",
       "    window._bokeh_is_loading = undefined;\n",
       "  }\n",
       "\n",
       "\n",
       "  \n",
       "  if (typeof (window._bokeh_timeout) === \"undefined\" || force !== \"\") {\n",
       "    window._bokeh_timeout = Date.now() + 5000;\n",
       "    window._bokeh_failed_load = false;\n",
       "  }\n",
       "\n",
       "  var NB_LOAD_WARNING = {'data': {'text/html':\n",
       "     \"<div style='background-color: #fdd'>\\n\"+\n",
       "     \"<p>\\n\"+\n",
       "     \"BokehJS does not appear to have successfully loaded. If loading BokehJS from CDN, this \\n\"+\n",
       "     \"may be due to a slow or bad network connection. Possible fixes:\\n\"+\n",
       "     \"</p>\\n\"+\n",
       "     \"<ul>\\n\"+\n",
       "     \"<li>re-rerun `output_notebook()` to attempt to load from CDN again, or</li>\\n\"+\n",
       "     \"<li>use INLINE resources instead, as so:</li>\\n\"+\n",
       "     \"</ul>\\n\"+\n",
       "     \"<code>\\n\"+\n",
       "     \"from bokeh.resources import INLINE\\n\"+\n",
       "     \"output_notebook(resources=INLINE)\\n\"+\n",
       "     \"</code>\\n\"+\n",
       "     \"</div>\"}};\n",
       "\n",
       "  function display_loaded() {\n",
       "    if (window.Bokeh !== undefined) {\n",
       "      Bokeh.$(\"#d43b9fb1-d4ca-4a87-8bcd-8bc125b67510\").text(\"BokehJS successfully loaded.\");\n",
       "    } else if (Date.now() < window._bokeh_timeout) {\n",
       "      setTimeout(display_loaded, 100)\n",
       "    }\n",
       "  }\n",
       "\n",
       "  function run_callbacks() {\n",
       "    window._bokeh_onload_callbacks.forEach(function(callback) { callback() });\n",
       "    delete window._bokeh_onload_callbacks\n",
       "    console.info(\"Bokeh: all callbacks have finished\");\n",
       "  }\n",
       "\n",
       "  function load_libs(js_urls, callback) {\n",
       "    window._bokeh_onload_callbacks.push(callback);\n",
       "    if (window._bokeh_is_loading > 0) {\n",
       "      console.log(\"Bokeh: BokehJS is being loaded, scheduling callback at\", now());\n",
       "      return null;\n",
       "    }\n",
       "    if (js_urls == null || js_urls.length === 0) {\n",
       "      run_callbacks();\n",
       "      return null;\n",
       "    }\n",
       "    console.log(\"Bokeh: BokehJS not loaded, scheduling load and callback at\", now());\n",
       "    window._bokeh_is_loading = js_urls.length;\n",
       "    for (var i = 0; i < js_urls.length; i++) {\n",
       "      var url = js_urls[i];\n",
       "      var s = document.createElement('script');\n",
       "      s.src = url;\n",
       "      s.async = false;\n",
       "      s.onreadystatechange = s.onload = function() {\n",
       "        window._bokeh_is_loading--;\n",
       "        if (window._bokeh_is_loading === 0) {\n",
       "          console.log(\"Bokeh: all BokehJS libraries loaded\");\n",
       "          run_callbacks()\n",
       "        }\n",
       "      };\n",
       "      s.onerror = function() {\n",
       "        console.warn(\"failed to load library \" + url);\n",
       "      };\n",
       "      console.log(\"Bokeh: injecting script tag for BokehJS library: \", url);\n",
       "      document.getElementsByTagName(\"head\")[0].appendChild(s);\n",
       "    }\n",
       "  };var element = document.getElementById(\"d43b9fb1-d4ca-4a87-8bcd-8bc125b67510\");\n",
       "  if (element == null) {\n",
       "    console.log(\"Bokeh: ERROR: autoload.js configured with elementid 'd43b9fb1-d4ca-4a87-8bcd-8bc125b67510' but no matching script tag was found. \")\n",
       "    return false;\n",
       "  }\n",
       "\n",
       "  var js_urls = ['https://cdn.pydata.org/bokeh/release/bokeh-0.12.2.min.js', 'https://cdn.pydata.org/bokeh/release/bokeh-widgets-0.12.2.min.js', 'https://cdn.pydata.org/bokeh/release/bokeh-compiler-0.12.2.min.js'];\n",
       "\n",
       "  var inline_js = [\n",
       "    function(Bokeh) {\n",
       "      Bokeh.set_log_level(\"info\");\n",
       "    },\n",
       "    \n",
       "    function(Bokeh) {\n",
       "      \n",
       "      Bokeh.$(\"#d43b9fb1-d4ca-4a87-8bcd-8bc125b67510\").text(\"BokehJS is loading...\");\n",
       "    },\n",
       "    function(Bokeh) {\n",
       "      console.log(\"Bokeh: injecting CSS: https://cdn.pydata.org/bokeh/release/bokeh-0.12.2.min.css\");\n",
       "      Bokeh.embed.inject_css(\"https://cdn.pydata.org/bokeh/release/bokeh-0.12.2.min.css\");\n",
       "      console.log(\"Bokeh: injecting CSS: https://cdn.pydata.org/bokeh/release/bokeh-widgets-0.12.2.min.css\");\n",
       "      Bokeh.embed.inject_css(\"https://cdn.pydata.org/bokeh/release/bokeh-widgets-0.12.2.min.css\");\n",
       "    }\n",
       "  ];\n",
       "\n",
       "  function run_inline_js() {\n",
       "    \n",
       "    if ((window.Bokeh !== undefined) || (force === \"1\")) {\n",
       "      for (var i = 0; i < inline_js.length; i++) {\n",
       "        inline_js[i](window.Bokeh);\n",
       "      }if (force === \"1\") {\n",
       "        display_loaded();\n",
       "      }} else if (Date.now() < window._bokeh_timeout) {\n",
       "      setTimeout(run_inline_js, 100);\n",
       "    } else if (!window._bokeh_failed_load) {\n",
       "      console.log(\"Bokeh: BokehJS failed to load within specified timeout.\");\n",
       "      window._bokeh_failed_load = true;\n",
       "    } else if (!force) {\n",
       "      var cell = $(\"#d43b9fb1-d4ca-4a87-8bcd-8bc125b67510\").parents('.cell').data().cell;\n",
       "      cell.output_area.append_execute_result(NB_LOAD_WARNING)\n",
       "    }\n",
       "\n",
       "  }\n",
       "\n",
       "  if (window._bokeh_is_loading === 0) {\n",
       "    console.log(\"Bokeh: BokehJS loaded, going straight to plotting\");\n",
       "    run_inline_js();\n",
       "  } else {\n",
       "    load_libs(js_urls, function() {\n",
       "      console.log(\"Bokeh: BokehJS plotting callback run at\", now());\n",
       "      run_inline_js();\n",
       "    });\n",
       "  }\n",
       "}(this));"
      ]
     },
     "metadata": {},
     "output_type": "display_data"
    },
    {
     "data": {
      "text/html": [
       "\n",
       "\n",
       "    <div class=\"bk-root\">\n",
       "        <div class=\"plotdiv\" id=\"1af9b315-e038-4c54-88f6-e7963173c74f\"></div>\n",
       "    </div>\n",
       "<script type=\"text/javascript\">\n",
       "  \n",
       "  (function(global) {\n",
       "    function now() {\n",
       "      return new Date();\n",
       "    }\n",
       "  \n",
       "    var force = \"\";\n",
       "  \n",
       "    if (typeof (window._bokeh_onload_callbacks) === \"undefined\" || force !== \"\") {\n",
       "      window._bokeh_onload_callbacks = [];\n",
       "      window._bokeh_is_loading = undefined;\n",
       "    }\n",
       "  \n",
       "  \n",
       "    \n",
       "    if (typeof (window._bokeh_timeout) === \"undefined\" || force !== \"\") {\n",
       "      window._bokeh_timeout = Date.now() + 0;\n",
       "      window._bokeh_failed_load = false;\n",
       "    }\n",
       "  \n",
       "    var NB_LOAD_WARNING = {'data': {'text/html':\n",
       "       \"<div style='background-color: #fdd'>\\n\"+\n",
       "       \"<p>\\n\"+\n",
       "       \"BokehJS does not appear to have successfully loaded. If loading BokehJS from CDN, this \\n\"+\n",
       "       \"may be due to a slow or bad network connection. Possible fixes:\\n\"+\n",
       "       \"</p>\\n\"+\n",
       "       \"<ul>\\n\"+\n",
       "       \"<li>re-rerun `output_notebook()` to attempt to load from CDN again, or</li>\\n\"+\n",
       "       \"<li>use INLINE resources instead, as so:</li>\\n\"+\n",
       "       \"</ul>\\n\"+\n",
       "       \"<code>\\n\"+\n",
       "       \"from bokeh.resources import INLINE\\n\"+\n",
       "       \"output_notebook(resources=INLINE)\\n\"+\n",
       "       \"</code>\\n\"+\n",
       "       \"</div>\"}};\n",
       "  \n",
       "    function display_loaded() {\n",
       "      if (window.Bokeh !== undefined) {\n",
       "        Bokeh.$(\"#1af9b315-e038-4c54-88f6-e7963173c74f\").text(\"BokehJS successfully loaded.\");\n",
       "      } else if (Date.now() < window._bokeh_timeout) {\n",
       "        setTimeout(display_loaded, 100)\n",
       "      }\n",
       "    }\n",
       "  \n",
       "    function run_callbacks() {\n",
       "      window._bokeh_onload_callbacks.forEach(function(callback) { callback() });\n",
       "      delete window._bokeh_onload_callbacks\n",
       "      console.info(\"Bokeh: all callbacks have finished\");\n",
       "    }\n",
       "  \n",
       "    function load_libs(js_urls, callback) {\n",
       "      window._bokeh_onload_callbacks.push(callback);\n",
       "      if (window._bokeh_is_loading > 0) {\n",
       "        console.log(\"Bokeh: BokehJS is being loaded, scheduling callback at\", now());\n",
       "        return null;\n",
       "      }\n",
       "      if (js_urls == null || js_urls.length === 0) {\n",
       "        run_callbacks();\n",
       "        return null;\n",
       "      }\n",
       "      console.log(\"Bokeh: BokehJS not loaded, scheduling load and callback at\", now());\n",
       "      window._bokeh_is_loading = js_urls.length;\n",
       "      for (var i = 0; i < js_urls.length; i++) {\n",
       "        var url = js_urls[i];\n",
       "        var s = document.createElement('script');\n",
       "        s.src = url;\n",
       "        s.async = false;\n",
       "        s.onreadystatechange = s.onload = function() {\n",
       "          window._bokeh_is_loading--;\n",
       "          if (window._bokeh_is_loading === 0) {\n",
       "            console.log(\"Bokeh: all BokehJS libraries loaded\");\n",
       "            run_callbacks()\n",
       "          }\n",
       "        };\n",
       "        s.onerror = function() {\n",
       "          console.warn(\"failed to load library \" + url);\n",
       "        };\n",
       "        console.log(\"Bokeh: injecting script tag for BokehJS library: \", url);\n",
       "        document.getElementsByTagName(\"head\")[0].appendChild(s);\n",
       "      }\n",
       "    };var element = document.getElementById(\"1af9b315-e038-4c54-88f6-e7963173c74f\");\n",
       "    if (element == null) {\n",
       "      console.log(\"Bokeh: ERROR: autoload.js configured with elementid '1af9b315-e038-4c54-88f6-e7963173c74f' but no matching script tag was found. \")\n",
       "      return false;\n",
       "    }\n",
       "  \n",
       "    var js_urls = [];\n",
       "  \n",
       "    var inline_js = [\n",
       "      function(Bokeh) {\n",
       "        Bokeh.$(function() {\n",
       "            var docs_json = {\"31510fdf-0c02-4e86-9f79-a4675e736298\":{\"roots\":{\"references\":[{\"attributes\":{\"fill_alpha\":{\"value\":0.7},\"fill_color\":{\"value\":\"#f22c40\"},\"line_color\":{\"value\":\"#f22c40\"},\"size\":{\"units\":\"screen\",\"value\":8},\"x\":{\"field\":\"x_values\"},\"y\":{\"field\":\"y_values\"}},\"id\":\"4f733180-f884-4556-bda0-5b8fd5ce8967\",\"type\":\"Circle\"},{\"attributes\":{\"callback\":null,\"end\":241.70540625508897,\"start\":-21.973218750462635},\"id\":\"600db575-3835-4df0-ac9f-9d19b244c078\",\"type\":\"Range1d\"},{\"attributes\":{\"location\":\"top_left\",\"plot\":{\"id\":\"dc186a6d-a06b-4895-8296-d4c4ff3546bf\",\"subtype\":\"Chart\",\"type\":\"Plot\"}},\"id\":\"2e10fe09-686d-4e4a-bf91-ecf557dd4d93\",\"type\":\"Legend\"},{\"attributes\":{},\"id\":\"23560c1f-22b8-47f8-bb4d-0bd9a618dad6\",\"type\":\"BasicTicker\"},{\"attributes\":{},\"id\":\"5845fde7-f605-47b9-a247-8da83726080e\",\"type\":\"BasicTickFormatter\"},{\"attributes\":{\"axis_label\":\"dt\",\"formatter\":{\"id\":\"16913d23-1215-4b70-af8a-71c3e0e64691\",\"type\":\"BasicTickFormatter\"},\"plot\":{\"id\":\"dc186a6d-a06b-4895-8296-d4c4ff3546bf\",\"subtype\":\"Chart\",\"type\":\"Plot\"},\"ticker\":{\"id\":\"23560c1f-22b8-47f8-bb4d-0bd9a618dad6\",\"type\":\"BasicTicker\"}},\"id\":\"90ec8c0b-147f-4d29-88d5-937a87509adb\",\"type\":\"LinearAxis\"},{\"attributes\":{},\"id\":\"16913d23-1215-4b70-af8a-71c3e0e64691\",\"type\":\"BasicTickFormatter\"},{\"attributes\":{\"axis_label\":\"MSD\",\"formatter\":{\"id\":\"5845fde7-f605-47b9-a247-8da83726080e\",\"type\":\"BasicTickFormatter\"},\"plot\":{\"id\":\"dc186a6d-a06b-4895-8296-d4c4ff3546bf\",\"subtype\":\"Chart\",\"type\":\"Plot\"},\"ticker\":{\"id\":\"e420386b-c5fa-4625-9461-159785b7d47d\",\"type\":\"BasicTicker\"}},\"id\":\"5180e15f-c0f5-4de6-baf0-c3061e52700d\",\"type\":\"LinearAxis\"},{\"attributes\":{\"plot\":{\"id\":\"dc186a6d-a06b-4895-8296-d4c4ff3546bf\",\"subtype\":\"Chart\",\"type\":\"Plot\"}},\"id\":\"078aa11d-5986-43ac-b091-abba4f02ed65\",\"type\":\"SaveTool\"},{\"attributes\":{\"plot\":{\"id\":\"dc186a6d-a06b-4895-8296-d4c4ff3546bf\",\"subtype\":\"Chart\",\"type\":\"Plot\"}},\"id\":\"d31789ff-2987-4720-91fe-8b363f6c5b77\",\"type\":\"HelpTool\"},{\"attributes\":{\"plot\":null,\"text\":\"E:/Code/pythonPractice/MSD/data/file.xls\"},\"id\":\"08cdbea4-ee10-4e17-8e08-de782f3116e6\",\"type\":\"Title\"},{\"attributes\":{\"callback\":null,\"column_names\":[\"y_values\",\"x_values\"],\"data\":{\"chart_index\":[null,null,null,null,null,null,null,null,null,null,null,null,null,null],\"x_values\":[0.0,0.04,0.08,0.12,0.16,0.2,0.24,0.28,0.32,0.36,0.4,0.44,0.48,0.52],\"y_values\":[0.0,12.87181355396218,26.31513778590086,40.42298431549368,55.47412239991254,71.29421011569822,87.61798662440982,104.48630691469654,122.06205018591524,140.43321424847593,159.52410673277575,179.09171328338365,199.21028725019286,219.73218750462635]}},\"id\":\"250c8bef-0feb-4d68-a33c-6bc2af764b94\",\"type\":\"ColumnDataSource\"},{\"attributes\":{\"dimension\":1,\"plot\":{\"id\":\"dc186a6d-a06b-4895-8296-d4c4ff3546bf\",\"subtype\":\"Chart\",\"type\":\"Plot\"},\"ticker\":{\"id\":\"e420386b-c5fa-4625-9461-159785b7d47d\",\"type\":\"BasicTicker\"}},\"id\":\"bcfbd0f8-f794-432d-9b23-de0834b593a6\",\"type\":\"Grid\"},{\"attributes\":{},\"id\":\"e420386b-c5fa-4625-9461-159785b7d47d\",\"type\":\"BasicTicker\"},{\"attributes\":{\"data_source\":{\"id\":\"250c8bef-0feb-4d68-a33c-6bc2af764b94\",\"type\":\"ColumnDataSource\"},\"glyph\":{\"id\":\"4f733180-f884-4556-bda0-5b8fd5ce8967\",\"type\":\"Circle\"},\"hover_glyph\":null,\"nonselection_glyph\":null,\"selection_glyph\":null},\"id\":\"f5b74501-63d1-439d-b209-4b0658e29723\",\"type\":\"GlyphRenderer\"},{\"attributes\":{\"plot\":{\"id\":\"dc186a6d-a06b-4895-8296-d4c4ff3546bf\",\"subtype\":\"Chart\",\"type\":\"Plot\"}},\"id\":\"6e915d0d-7f0d-454c-9438-b75aafe2ada6\",\"type\":\"PanTool\"},{\"attributes\":{\"bottom_units\":\"screen\",\"fill_alpha\":{\"value\":0.5},\"fill_color\":{\"value\":\"lightgrey\"},\"left_units\":\"screen\",\"level\":\"overlay\",\"line_alpha\":{\"value\":1.0},\"line_color\":{\"value\":\"black\"},\"line_dash\":[4,4],\"line_width\":{\"value\":2},\"plot\":null,\"render_mode\":\"css\",\"right_units\":\"screen\",\"top_units\":\"screen\"},\"id\":\"9cbf4f94-09bc-4a84-8361-a7425a829c78\",\"type\":\"BoxAnnotation\"},{\"attributes\":{\"active_drag\":\"auto\",\"active_scroll\":\"auto\",\"active_tap\":\"auto\",\"tools\":[{\"id\":\"6e915d0d-7f0d-454c-9438-b75aafe2ada6\",\"type\":\"PanTool\"},{\"id\":\"4b4ae0f3-52a6-497f-b82d-08dfcc45b68d\",\"type\":\"WheelZoomTool\"},{\"id\":\"2b57e27d-40bc-45e1-8135-ed2f626c8241\",\"type\":\"BoxZoomTool\"},{\"id\":\"078aa11d-5986-43ac-b091-abba4f02ed65\",\"type\":\"SaveTool\"},{\"id\":\"5d66057e-1346-4818-bb29-ee4175e58545\",\"type\":\"ResetTool\"},{\"id\":\"d31789ff-2987-4720-91fe-8b363f6c5b77\",\"type\":\"HelpTool\"}]},\"id\":\"3c52786b-cbb1-4a20-89c9-920cb22321c2\",\"type\":\"Toolbar\"},{\"attributes\":{\"below\":[{\"id\":\"90ec8c0b-147f-4d29-88d5-937a87509adb\",\"type\":\"LinearAxis\"}],\"left\":[{\"id\":\"5180e15f-c0f5-4de6-baf0-c3061e52700d\",\"type\":\"LinearAxis\"}],\"renderers\":[{\"id\":\"9cbf4f94-09bc-4a84-8361-a7425a829c78\",\"type\":\"BoxAnnotation\"},{\"id\":\"f5b74501-63d1-439d-b209-4b0658e29723\",\"type\":\"GlyphRenderer\"},{\"id\":\"2e10fe09-686d-4e4a-bf91-ecf557dd4d93\",\"type\":\"Legend\"},{\"id\":\"90ec8c0b-147f-4d29-88d5-937a87509adb\",\"type\":\"LinearAxis\"},{\"id\":\"5180e15f-c0f5-4de6-baf0-c3061e52700d\",\"type\":\"LinearAxis\"},{\"id\":\"b4e58ac4-6f87-47da-b179-4f853f2cf587\",\"type\":\"Grid\"},{\"id\":\"bcfbd0f8-f794-432d-9b23-de0834b593a6\",\"type\":\"Grid\"}],\"title\":{\"id\":\"08cdbea4-ee10-4e17-8e08-de782f3116e6\",\"type\":\"Title\"},\"tool_events\":{\"id\":\"3f381448-667d-4398-80f0-fdc1239ef832\",\"type\":\"ToolEvents\"},\"toolbar\":{\"id\":\"3c52786b-cbb1-4a20-89c9-920cb22321c2\",\"type\":\"Toolbar\"},\"x_mapper_type\":\"auto\",\"x_range\":{\"id\":\"f62efabf-e3bb-42c0-b639-831515d45885\",\"type\":\"Range1d\"},\"y_mapper_type\":\"auto\",\"y_range\":{\"id\":\"600db575-3835-4df0-ac9f-9d19b244c078\",\"type\":\"Range1d\"}},\"id\":\"dc186a6d-a06b-4895-8296-d4c4ff3546bf\",\"subtype\":\"Chart\",\"type\":\"Plot\"},{\"attributes\":{\"plot\":{\"id\":\"dc186a6d-a06b-4895-8296-d4c4ff3546bf\",\"subtype\":\"Chart\",\"type\":\"Plot\"}},\"id\":\"5d66057e-1346-4818-bb29-ee4175e58545\",\"type\":\"ResetTool\"},{\"attributes\":{\"callback\":null,\"end\":0.5720000000000001,\"start\":-0.052000000000000005},\"id\":\"f62efabf-e3bb-42c0-b639-831515d45885\",\"type\":\"Range1d\"},{\"attributes\":{\"plot\":{\"id\":\"dc186a6d-a06b-4895-8296-d4c4ff3546bf\",\"subtype\":\"Chart\",\"type\":\"Plot\"}},\"id\":\"4b4ae0f3-52a6-497f-b82d-08dfcc45b68d\",\"type\":\"WheelZoomTool\"},{\"attributes\":{},\"id\":\"3f381448-667d-4398-80f0-fdc1239ef832\",\"type\":\"ToolEvents\"},{\"attributes\":{\"plot\":{\"id\":\"dc186a6d-a06b-4895-8296-d4c4ff3546bf\",\"subtype\":\"Chart\",\"type\":\"Plot\"},\"ticker\":{\"id\":\"23560c1f-22b8-47f8-bb4d-0bd9a618dad6\",\"type\":\"BasicTicker\"}},\"id\":\"b4e58ac4-6f87-47da-b179-4f853f2cf587\",\"type\":\"Grid\"},{\"attributes\":{\"overlay\":{\"id\":\"9cbf4f94-09bc-4a84-8361-a7425a829c78\",\"type\":\"BoxAnnotation\"},\"plot\":{\"id\":\"dc186a6d-a06b-4895-8296-d4c4ff3546bf\",\"subtype\":\"Chart\",\"type\":\"Plot\"}},\"id\":\"2b57e27d-40bc-45e1-8135-ed2f626c8241\",\"type\":\"BoxZoomTool\"}],\"root_ids\":[\"dc186a6d-a06b-4895-8296-d4c4ff3546bf\"]},\"title\":\"Bokeh Application\",\"version\":\"0.12.2\"}};\n",
       "            var render_items = [{\"docid\":\"31510fdf-0c02-4e86-9f79-a4675e736298\",\"elementid\":\"1af9b315-e038-4c54-88f6-e7963173c74f\",\"modelid\":\"dc186a6d-a06b-4895-8296-d4c4ff3546bf\"}];\n",
       "            \n",
       "            Bokeh.embed.embed_items(docs_json, render_items);\n",
       "        });\n",
       "      },\n",
       "      function(Bokeh) {\n",
       "      }\n",
       "    ];\n",
       "  \n",
       "    function run_inline_js() {\n",
       "      \n",
       "      if ((window.Bokeh !== undefined) || (force === \"1\")) {\n",
       "        for (var i = 0; i < inline_js.length; i++) {\n",
       "          inline_js[i](window.Bokeh);\n",
       "        }if (force === \"1\") {\n",
       "          display_loaded();\n",
       "        }} else if (Date.now() < window._bokeh_timeout) {\n",
       "        setTimeout(run_inline_js, 100);\n",
       "      } else if (!window._bokeh_failed_load) {\n",
       "        console.log(\"Bokeh: BokehJS failed to load within specified timeout.\");\n",
       "        window._bokeh_failed_load = true;\n",
       "      } else if (!force) {\n",
       "        var cell = $(\"#1af9b315-e038-4c54-88f6-e7963173c74f\").parents('.cell').data().cell;\n",
       "        cell.output_area.append_execute_result(NB_LOAD_WARNING)\n",
       "      }\n",
       "  \n",
       "    }\n",
       "  \n",
       "    if (window._bokeh_is_loading === 0) {\n",
       "      console.log(\"Bokeh: BokehJS loaded, going straight to plotting\");\n",
       "      run_inline_js();\n",
       "    } else {\n",
       "      load_libs(js_urls, function() {\n",
       "        console.log(\"Bokeh: BokehJS plotting callback run at\", now());\n",
       "        run_inline_js();\n",
       "      });\n",
       "    }\n",
       "  }(this));\n",
       "</script>"
      ]
     },
     "metadata": {},
     "output_type": "display_data"
    },
    {
     "name": "stdout",
     "output_type": "stream",
     "text": [
      "Analysis complete\n",
      "Wall time: 1min 12s\n"
     ]
    }
   ],
   "source": [
    "\n",
    "minSizeInput = widgets.Text(description=\"Min Particle Size\")\n",
    "minCountInput = widgets.Text(description=\"Min Count\")\n",
    "msdTimeLimitInput = widgets.Text(description=\"Total Analysis Time\")\n",
    "dtInput = widgets.Text(description=\"delta-T\")\n",
    "\n",
    "display(minSizeInput)\n",
    "display(minCountInput)\n",
    "display(msdTimeLimitInput)\n",
    "display(dtInput)\n",
    "\n",
    "  \n",
    "def inputAssignment(b):\n",
    "    clear_output()\n",
    "    tmp = True\n",
    "    for parameter in [minSizeInput, minCountInput, msdTimeLimitInput, dtInput]:\n",
    "        if parameter.value == \"\":\n",
    "            tmp = False\n",
    "    if tmp:\n",
    "        print(\"The chosen analysis parameters are as follows:\")\n",
    "        print(minSizeInput.value, minCountInput.value, msdTimeLimitInput.value, dtInput.value)\n",
    "        %time go(int(minSizeInput.value), int(minCountInput.value), float(msdTimeLimitInput.value), float(dtInput.value))\n",
    "\n",
    "    \n",
    "button  = widgets.Button(description=\"TIME TO RUMBLE!!\")\n",
    "display(button)\n",
    "\n",
    "button.on_click(inputAssignment)\n",
    "\n",
    "    "
   ]
  },
  {
   "cell_type": "code",
   "execution_count": null,
   "metadata": {
    "collapsed": true
   },
   "outputs": [],
   "source": []
  }
 ],
 "metadata": {
  "anaconda-cloud": {},
  "kernelspec": {
   "display_name": "Python [conda root]",
   "language": "python",
   "name": "conda-root-py"
  },
  "language_info": {
   "codemirror_mode": {
    "name": "ipython",
    "version": 3
   },
   "file_extension": ".py",
   "mimetype": "text/x-python",
   "name": "python",
   "nbconvert_exporter": "python",
   "pygments_lexer": "ipython3",
   "version": "3.5.2"
  },
  "widgets": {
   "state": {
    "42eed77bdb4b4f4a855681cbb320ef20": {
     "views": [
      {
       "cell_index": 13
      }
     ]
    },
    "777b29fd717642bca32d65d0dc9f817f": {
     "views": [
      {
       "cell_index": 13
      }
     ]
    },
    "82fb8b99ea824bab97018666244e9828": {
     "views": [
      {
       "cell_index": 13
      }
     ]
    },
    "b27b4577660643349f838275898743e3": {
     "views": [
      {
       "cell_index": 13
      }
     ]
    },
    "b65b4a7c501040babc3f0f906d72e45b": {
     "views": [
      {
       "cell_index": 13
      }
     ]
    },
    "ccba73518b994f3e85779c20b2eef49b": {
     "views": [
      {
       "cell_index": 13
      }
     ]
    },
    "ed3f6d82b2c34157969ec18598e11faf": {
     "views": [
      {
       "cell_index": 13
      }
     ]
    }
   },
   "version": "1.2.0"
  }
 },
 "nbformat": 4,
 "nbformat_minor": 1
}
